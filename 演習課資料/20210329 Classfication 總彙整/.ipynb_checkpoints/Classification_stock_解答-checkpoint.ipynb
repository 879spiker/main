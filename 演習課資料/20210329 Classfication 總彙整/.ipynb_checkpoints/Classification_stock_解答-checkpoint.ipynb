{
 "cells": [
  {
   "cell_type": "code",
   "execution_count": 1,
   "metadata": {},
   "outputs": [],
   "source": [
    "# Classification for Stock: KNN, Bayes, Decision Tree"
   ]
  },
  {
   "cell_type": "code",
   "execution_count": 2,
   "metadata": {},
   "outputs": [],
   "source": [
    "# import package and datasets\n",
    "from sklearn.preprocessing import MinMaxScaler\n",
    "from sklearn.model_selection import train_test_split\n",
    "from sklearn.metrics import accuracy_score\n",
    "from sklearn import metrics, preprocessing\n",
    "\n",
    "import pandas as pd\n",
    "import numpy as np\n",
    "import matplotlib.pyplot as plt"
   ]
  },
  {
   "cell_type": "code",
   "execution_count": 3,
   "metadata": {},
   "outputs": [],
   "source": [
    "df=pd.read_csv('2882_17v1.csv')"
   ]
  },
  {
   "cell_type": "code",
   "execution_count": 4,
   "metadata": {},
   "outputs": [
    {
     "data": {
      "text/html": [
       "<div>\n",
       "<style scoped>\n",
       "    .dataframe tbody tr th:only-of-type {\n",
       "        vertical-align: middle;\n",
       "    }\n",
       "\n",
       "    .dataframe tbody tr th {\n",
       "        vertical-align: top;\n",
       "    }\n",
       "\n",
       "    .dataframe thead th {\n",
       "        text-align: right;\n",
       "    }\n",
       "</style>\n",
       "<table border=\"1\" class=\"dataframe\">\n",
       "  <thead>\n",
       "    <tr style=\"text-align: right;\">\n",
       "      <th></th>\n",
       "      <th>日期</th>\n",
       "      <th>開盤</th>\n",
       "      <th>最高</th>\n",
       "      <th>最低</th>\n",
       "      <th>收盤</th>\n",
       "      <th>1d</th>\n",
       "      <th>5d</th>\n",
       "      <th>成交值千元</th>\n",
       "      <th>外資買賣超金額</th>\n",
       "      <th>投信買賣超金額</th>\n",
       "      <th>自營商買賣超金額</th>\n",
       "      <th>融資餘額張數</th>\n",
       "      <th>融券餘額張數</th>\n",
       "    </tr>\n",
       "  </thead>\n",
       "  <tbody>\n",
       "    <tr>\n",
       "      <th>0</th>\n",
       "      <td>20170103</td>\n",
       "      <td>48.10</td>\n",
       "      <td>48.20</td>\n",
       "      <td>47.70</td>\n",
       "      <td>48.00</td>\n",
       "      <td>0</td>\n",
       "      <td>1</td>\n",
       "      <td>293195.63</td>\n",
       "      <td>-12480.00</td>\n",
       "      <td>-1440.00</td>\n",
       "      <td>-35616.0</td>\n",
       "      <td>21667</td>\n",
       "      <td>4545</td>\n",
       "    </tr>\n",
       "    <tr>\n",
       "      <th>1</th>\n",
       "      <td>20170104</td>\n",
       "      <td>48.35</td>\n",
       "      <td>48.35</td>\n",
       "      <td>47.75</td>\n",
       "      <td>47.90</td>\n",
       "      <td>1</td>\n",
       "      <td>1</td>\n",
       "      <td>461387.88</td>\n",
       "      <td>8552.35</td>\n",
       "      <td>-8574.10</td>\n",
       "      <td>-12741.4</td>\n",
       "      <td>21563</td>\n",
       "      <td>4422</td>\n",
       "    </tr>\n",
       "    <tr>\n",
       "      <th>2</th>\n",
       "      <td>20170105</td>\n",
       "      <td>47.90</td>\n",
       "      <td>48.40</td>\n",
       "      <td>47.90</td>\n",
       "      <td>48.40</td>\n",
       "      <td>1</td>\n",
       "      <td>1</td>\n",
       "      <td>708032.56</td>\n",
       "      <td>44164.52</td>\n",
       "      <td>968.00</td>\n",
       "      <td>52998.0</td>\n",
       "      <td>21917</td>\n",
       "      <td>4401</td>\n",
       "    </tr>\n",
       "    <tr>\n",
       "      <th>3</th>\n",
       "      <td>20170106</td>\n",
       "      <td>48.80</td>\n",
       "      <td>48.80</td>\n",
       "      <td>48.15</td>\n",
       "      <td>48.75</td>\n",
       "      <td>1</td>\n",
       "      <td>0</td>\n",
       "      <td>850128.00</td>\n",
       "      <td>324610.16</td>\n",
       "      <td>5898.75</td>\n",
       "      <td>-40072.5</td>\n",
       "      <td>21405</td>\n",
       "      <td>4448</td>\n",
       "    </tr>\n",
       "    <tr>\n",
       "      <th>4</th>\n",
       "      <td>20170109</td>\n",
       "      <td>48.75</td>\n",
       "      <td>49.20</td>\n",
       "      <td>48.75</td>\n",
       "      <td>49.00</td>\n",
       "      <td>1</td>\n",
       "      <td>0</td>\n",
       "      <td>738486.00</td>\n",
       "      <td>276888.41</td>\n",
       "      <td>-4900.00</td>\n",
       "      <td>-38171.0</td>\n",
       "      <td>21180</td>\n",
       "      <td>4634</td>\n",
       "    </tr>\n",
       "  </tbody>\n",
       "</table>\n",
       "</div>"
      ],
      "text/plain": [
       "         日期     開盤     最高     最低     收盤  1d  5d      成交值千元    外資買賣超金額  \\\n",
       "0  20170103  48.10  48.20  47.70  48.00   0   1  293195.63  -12480.00   \n",
       "1  20170104  48.35  48.35  47.75  47.90   1   1  461387.88    8552.35   \n",
       "2  20170105  47.90  48.40  47.90  48.40   1   1  708032.56   44164.52   \n",
       "3  20170106  48.80  48.80  48.15  48.75   1   0  850128.00  324610.16   \n",
       "4  20170109  48.75  49.20  48.75  49.00   1   0  738486.00  276888.41   \n",
       "\n",
       "   投信買賣超金額  自營商買賣超金額  融資餘額張數  融券餘額張數  \n",
       "0 -1440.00  -35616.0   21667    4545  \n",
       "1 -8574.10  -12741.4   21563    4422  \n",
       "2   968.00   52998.0   21917    4401  \n",
       "3  5898.75  -40072.5   21405    4448  \n",
       "4 -4900.00  -38171.0   21180    4634  "
      ]
     },
     "execution_count": 4,
     "metadata": {},
     "output_type": "execute_result"
    }
   ],
   "source": [
    "df.head()"
   ]
  },
  {
   "cell_type": "code",
   "execution_count": 5,
   "metadata": {},
   "outputs": [],
   "source": [
    "# normalize\n",
    "def normalize(df):\n",
    "    norm = df.apply(lambda x: (x - np.mean(x)) / (np.max(x) - np.min(x))) #變數X會在此函數結束之後被回收，故可以不用顧慮x變數被更改。\n",
    "    return norm\n",
    "norm = normalize(df[['開盤','最高','最低','收盤','成交值千元','外資買賣超金額','投信買賣超金額','自營商買賣超金額','融資餘額張數','融券餘額張數']])"
   ]
  },
  {
   "cell_type": "code",
   "execution_count": 6,
   "metadata": {},
   "outputs": [
    {
     "data": {
      "text/html": [
       "<div>\n",
       "<style scoped>\n",
       "    .dataframe tbody tr th:only-of-type {\n",
       "        vertical-align: middle;\n",
       "    }\n",
       "\n",
       "    .dataframe tbody tr th {\n",
       "        vertical-align: top;\n",
       "    }\n",
       "\n",
       "    .dataframe thead th {\n",
       "        text-align: right;\n",
       "    }\n",
       "</style>\n",
       "<table border=\"1\" class=\"dataframe\">\n",
       "  <thead>\n",
       "    <tr style=\"text-align: right;\">\n",
       "      <th></th>\n",
       "      <th>開盤</th>\n",
       "      <th>最高</th>\n",
       "      <th>最低</th>\n",
       "      <th>收盤</th>\n",
       "      <th>成交值千元</th>\n",
       "      <th>外資買賣超金額</th>\n",
       "      <th>投信買賣超金額</th>\n",
       "      <th>自營商買賣超金額</th>\n",
       "      <th>融資餘額張數</th>\n",
       "      <th>融券餘額張數</th>\n",
       "    </tr>\n",
       "  </thead>\n",
       "  <tbody>\n",
       "    <tr>\n",
       "      <th>0</th>\n",
       "      <td>-0.148823</td>\n",
       "      <td>-0.157672</td>\n",
       "      <td>-0.163186</td>\n",
       "      <td>-0.154957</td>\n",
       "      <td>-0.107591</td>\n",
       "      <td>-0.026568</td>\n",
       "      <td>-0.002674</td>\n",
       "      <td>-0.063062</td>\n",
       "      <td>0.210706</td>\n",
       "      <td>0.669391</td>\n",
       "    </tr>\n",
       "    <tr>\n",
       "      <th>1</th>\n",
       "      <td>-0.119753</td>\n",
       "      <td>-0.141714</td>\n",
       "      <td>-0.157198</td>\n",
       "      <td>-0.166320</td>\n",
       "      <td>-0.073108</td>\n",
       "      <td>-0.015600</td>\n",
       "      <td>-0.014578</td>\n",
       "      <td>-0.027036</td>\n",
       "      <td>0.202059</td>\n",
       "      <td>0.644077</td>\n",
       "    </tr>\n",
       "    <tr>\n",
       "      <th>2</th>\n",
       "      <td>-0.172079</td>\n",
       "      <td>-0.136395</td>\n",
       "      <td>-0.139234</td>\n",
       "      <td>-0.109502</td>\n",
       "      <td>-0.022539</td>\n",
       "      <td>0.002969</td>\n",
       "      <td>0.001344</td>\n",
       "      <td>0.076501</td>\n",
       "      <td>0.231492</td>\n",
       "      <td>0.639755</td>\n",
       "    </tr>\n",
       "    <tr>\n",
       "      <th>3</th>\n",
       "      <td>-0.067428</td>\n",
       "      <td>-0.093842</td>\n",
       "      <td>-0.109294</td>\n",
       "      <td>-0.069729</td>\n",
       "      <td>0.006594</td>\n",
       "      <td>0.149206</td>\n",
       "      <td>0.009572</td>\n",
       "      <td>-0.070081</td>\n",
       "      <td>0.188921</td>\n",
       "      <td>0.649428</td>\n",
       "    </tr>\n",
       "    <tr>\n",
       "      <th>4</th>\n",
       "      <td>-0.073242</td>\n",
       "      <td>-0.051289</td>\n",
       "      <td>-0.037437</td>\n",
       "      <td>-0.041320</td>\n",
       "      <td>-0.016296</td>\n",
       "      <td>0.124322</td>\n",
       "      <td>-0.008447</td>\n",
       "      <td>-0.067086</td>\n",
       "      <td>0.170214</td>\n",
       "      <td>0.687707</td>\n",
       "    </tr>\n",
       "  </tbody>\n",
       "</table>\n",
       "</div>"
      ],
      "text/plain": [
       "         開盤        最高        最低        收盤     成交值千元   外資買賣超金額   投信買賣超金額  \\\n",
       "0 -0.148823 -0.157672 -0.163186 -0.154957 -0.107591 -0.026568 -0.002674   \n",
       "1 -0.119753 -0.141714 -0.157198 -0.166320 -0.073108 -0.015600 -0.014578   \n",
       "2 -0.172079 -0.136395 -0.139234 -0.109502 -0.022539  0.002969  0.001344   \n",
       "3 -0.067428 -0.093842 -0.109294 -0.069729  0.006594  0.149206  0.009572   \n",
       "4 -0.073242 -0.051289 -0.037437 -0.041320 -0.016296  0.124322 -0.008447   \n",
       "\n",
       "   自營商買賣超金額    融資餘額張數    融券餘額張數  \n",
       "0 -0.063062  0.210706  0.669391  \n",
       "1 -0.027036  0.202059  0.644077  \n",
       "2  0.076501  0.231492  0.639755  \n",
       "3 -0.070081  0.188921  0.649428  \n",
       "4 -0.067086  0.170214  0.687707  "
      ]
     },
     "execution_count": 6,
     "metadata": {},
     "output_type": "execute_result"
    }
   ],
   "source": [
    "norm.head()"
   ]
  },
  {
   "cell_type": "code",
   "execution_count": 7,
   "metadata": {},
   "outputs": [],
   "source": [
    "X_train, X_test, y_train, y_test = train_test_split(norm, df['1d'], test_size=0.3)\n"
   ]
  },
  {
   "cell_type": "code",
   "execution_count": 8,
   "metadata": {},
   "outputs": [
    {
     "name": "stdout",
     "output_type": "stream",
     "text": [
      "74\n",
      "172\n",
      "74\n",
      "172\n"
     ]
    }
   ],
   "source": [
    "# check the training and testing data~\n",
    "print(len(X_test))\n",
    "print(len(X_train))\n",
    "print(len(y_test))\n",
    "print(len(y_train))"
   ]
  },
  {
   "cell_type": "code",
   "execution_count": 9,
   "metadata": {},
   "outputs": [
    {
     "name": "stdout",
     "output_type": "stream",
     "text": [
      "           開盤        最高        最低        收盤     成交值千元   外資買賣超金額   投信買賣超金額  \\\n",
      "3   -0.067428 -0.093842 -0.109294 -0.069729  0.006594  0.149206  0.009572   \n",
      "56  -0.032544 -0.040650 -0.043425 -0.075411  0.050603 -0.242637 -0.003016   \n",
      "67  -0.323242 -0.280012 -0.360791 -0.359502  0.083039 -0.205195 -0.151627   \n",
      "242  0.479084  0.448711  0.447593  0.401862 -0.065038 -0.026818  0.048693   \n",
      "172 -0.108125 -0.131076 -0.127258 -0.137911  0.122056 -0.032726  0.015799   \n",
      "..        ...       ...       ...       ...       ...       ...       ...   \n",
      "157 -0.148823 -0.147033 -0.115282 -0.132229 -0.104603 -0.044741 -0.011933   \n",
      "122 -0.073242 -0.093842 -0.079353 -0.092457 -0.073097 -0.026116 -0.003836   \n",
      "225  0.304665  0.544456  0.339808  0.560953  0.521326  0.298999  0.066056   \n",
      "140 -0.032544 -0.051289 -0.013485 -0.024275 -0.078995 -0.027787 -0.010851   \n",
      "45   0.165130  0.150839  0.172144  0.185953  0.059708  0.045406 -0.000271   \n",
      "\n",
      "     自營商買賣超金額    融資餘額張數    融券餘額張數  \n",
      "3   -0.070081  0.188921  0.649428  \n",
      "56   0.001468 -0.260484  0.155087  \n",
      "67   0.005328 -0.074153 -0.203011  \n",
      "242 -0.118111  0.326612 -0.059154  \n",
      "172 -0.009168 -0.081221 -0.159998  \n",
      "..        ...       ...       ...  \n",
      "157 -0.063828  0.069523 -0.194985  \n",
      "122 -0.064317 -0.068832 -0.208156  \n",
      "225  0.197339  0.604653  0.023990  \n",
      "140  0.019737 -0.030585 -0.213507  \n",
      "45  -0.131549 -0.293909  0.503924  \n",
      "\n",
      "[74 rows x 10 columns]\n"
     ]
    }
   ],
   "source": [
    "print(X_test)"
   ]
  },
  {
   "cell_type": "code",
   "execution_count": 10,
   "metadata": {},
   "outputs": [
    {
     "name": "stdout",
     "output_type": "stream",
     "text": [
      "[1 0 1 0 0 1 1 0 0 1 1 0 1 0 0 0 1 0 0 0 0 1 0 1 0 0 1 1 0 0 1 0 1 1 1 0 1\n",
      " 1 0 0 1 0 0 1 0 1 1 1 1 0 0 0 0 1 1 1 0 0 0 0 0 1 1 0 1 0 0 1 1 1 0 0 0 0]\n",
      "3      1\n",
      "56     1\n",
      "67     1\n",
      "242    1\n",
      "172    1\n",
      "      ..\n",
      "157    1\n",
      "122    1\n",
      "225    1\n",
      "140    0\n",
      "45     0\n",
      "Name: 1d, Length: 74, dtype: int64\n"
     ]
    }
   ],
   "source": [
    "# KNN algorithm\n",
    "\n",
    "# import algorithm from sklearn\n",
    "from sklearn import neighbors\n",
    "\n",
    "# build model\n",
    "model2 = neighbors.KNeighborsClassifier(n_neighbors=5)\n",
    "\n",
    "# training data\n",
    "model2.fit(X_train, y_train) \n",
    "\n",
    "# predict data\n",
    "y_pred=model2.predict(X_test)\n",
    "\n",
    "# print result\n",
    "print(y_pred)\n",
    "print(y_test)"
   ]
  },
  {
   "cell_type": "code",
   "execution_count": 11,
   "metadata": {},
   "outputs": [
    {
     "name": "stdout",
     "output_type": "stream",
     "text": [
      "[[26 19]\n",
      " [15 14]]\n",
      "0.5405405405405406\n",
      "              precision    recall  f1-score   support\n",
      "\n",
      "           0       0.58      0.63      0.60        41\n",
      "           1       0.48      0.42      0.45        33\n",
      "\n",
      "    accuracy                           0.54        74\n",
      "   macro avg       0.53      0.53      0.53        74\n",
      "weighted avg       0.54      0.54      0.54        74\n",
      "\n"
     ]
    }
   ],
   "source": [
    "# print report\n",
    "print(metrics.confusion_matrix(y_test,y_pred))\n",
    "print(metrics.accuracy_score(y_test,y_pred))\n",
    "print(metrics.classification_report(y_pred,y_test))"
   ]
  },
  {
   "cell_type": "code",
   "execution_count": 12,
   "metadata": {},
   "outputs": [],
   "source": [
    "# Naive Bayes Algorithm"
   ]
  },
  {
   "cell_type": "code",
   "execution_count": 13,
   "metadata": {},
   "outputs": [
    {
     "name": "stdout",
     "output_type": "stream",
     "text": [
      "[1 1 1 0 1 1 1 1 1 1 1 1 1 0 0 0 1 1 1 1 1 1 1 1 1 1 1 1 1 1 1 1 0 1 1 0 1\n",
      " 1 1 1 1 1 0 1 1 1 1 1 0 1 1 1 1 1 1 1 1 0 1 1 1 1 1 1 1 0 1 1 1 1 1 1 1 0]\n",
      "<bound method IndexOpsMixin.to_numpy of 3      1\n",
      "56     1\n",
      "67     1\n",
      "242    1\n",
      "172    1\n",
      "      ..\n",
      "157    1\n",
      "122    1\n",
      "225    1\n",
      "140    0\n",
      "45     0\n",
      "Name: 1d, Length: 74, dtype: int64>\n"
     ]
    }
   ],
   "source": [
    "# Naive Bayes\n",
    "\n",
    "# from sklearn.naive_bayes import GaussianNB\n",
    "from sklearn import naive_bayes\n",
    "\n",
    "# build model\n",
    "model4 = naive_bayes.GaussianNB()\n",
    "#kernel要調的好, 但會有過度學習的狀況\n",
    "\n",
    "# training data\n",
    "model4.fit(X_train, y_train) \n",
    "\n",
    "# predict\n",
    "y_pred=model4.predict(X_test)\n",
    "\n",
    "# print result\n",
    "print(y_pred)\n",
    "print(y_test.to_numpy)"
   ]
  },
  {
   "cell_type": "code",
   "execution_count": 14,
   "metadata": {},
   "outputs": [
    {
     "name": "stdout",
     "output_type": "stream",
     "text": [
      "[[ 6 39]\n",
      " [ 5 24]]\n",
      "0.40540540540540543\n",
      "              precision    recall  f1-score   support\n",
      "\n",
      "           0       0.13      0.55      0.21        11\n",
      "           1       0.83      0.38      0.52        63\n",
      "\n",
      "    accuracy                           0.41        74\n",
      "   macro avg       0.48      0.46      0.37        74\n",
      "weighted avg       0.72      0.41      0.48        74\n",
      "\n"
     ]
    }
   ],
   "source": [
    "# print report\n",
    "print(metrics.confusion_matrix(y_test,y_pred))\n",
    "print(metrics.accuracy_score(y_test,y_pred))\n",
    "print(metrics.classification_report(y_pred,y_test))"
   ]
  },
  {
   "cell_type": "code",
   "execution_count": 15,
   "metadata": {},
   "outputs": [],
   "source": [
    "# Decision Tree Algorithm"
   ]
  },
  {
   "cell_type": "code",
   "execution_count": 16,
   "metadata": {},
   "outputs": [
    {
     "name": "stdout",
     "output_type": "stream",
     "text": [
      "[1 0 1 1 1 0 0 0 1 0 0 1 1 0 1 0 0 0 1 1 0 1 0 0 0 0 1 0 0 0 0 0 1 0 0 0 0\n",
      " 1 0 0 0 1 0 1 1 1 0 0 1 1 1 1 1 0 1 1 0 0 0 0 0 0 0 0 1 1 0 1 1 0 0 0 1 0]\n",
      "3      1\n",
      "56     1\n",
      "67     1\n",
      "242    1\n",
      "172    1\n",
      "      ..\n",
      "157    1\n",
      "122    1\n",
      "225    1\n",
      "140    0\n",
      "45     0\n",
      "Name: 1d, Length: 74, dtype: int64\n"
     ]
    }
   ],
   "source": [
    "# decision tree\n",
    "from sklearn import tree\n",
    "\n",
    "# build model\n",
    "model1 = tree.DecisionTreeClassifier()\n",
    "\n",
    "# training data\n",
    "model1.fit(X_train, y_train) \n",
    "\n",
    "# predict data\n",
    "y_pred=model1.predict(X_test)\n",
    "\n",
    "# print reulst\n",
    "print(y_pred)\n",
    "print(y_test)\n"
   ]
  },
  {
   "cell_type": "code",
   "execution_count": 17,
   "metadata": {},
   "outputs": [
    {
     "name": "stdout",
     "output_type": "stream",
     "text": [
      "[[28 17]\n",
      " [16 13]]\n",
      "0.5540540540540541\n",
      "              precision    recall  f1-score   support\n",
      "\n",
      "           0       0.62      0.64      0.63        44\n",
      "           1       0.45      0.43      0.44        30\n",
      "\n",
      "    accuracy                           0.55        74\n",
      "   macro avg       0.54      0.53      0.53        74\n",
      "weighted avg       0.55      0.55      0.55        74\n",
      "\n"
     ]
    }
   ],
   "source": [
    "# print report\n",
    "print(metrics.confusion_matrix(y_test,y_pred))\n",
    "print(metrics.accuracy_score(y_test,y_pred))\n",
    "print(metrics.classification_report(y_pred,y_test))"
   ]
  },
  {
   "cell_type": "code",
   "execution_count": null,
   "metadata": {},
   "outputs": [],
   "source": []
  },
  {
   "cell_type": "code",
   "execution_count": null,
   "metadata": {},
   "outputs": [],
   "source": []
  }
 ],
 "metadata": {
  "kernelspec": {
   "display_name": "Python 3",
   "language": "python",
   "name": "python3"
  },
  "language_info": {
   "codemirror_mode": {
    "name": "ipython",
    "version": 3
   },
   "file_extension": ".py",
   "mimetype": "text/x-python",
   "name": "python",
   "nbconvert_exporter": "python",
   "pygments_lexer": "ipython3",
   "version": "3.8.8"
  }
 },
 "nbformat": 4,
 "nbformat_minor": 2
}

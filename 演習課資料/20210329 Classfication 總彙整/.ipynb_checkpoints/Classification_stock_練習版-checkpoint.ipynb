{
 "cells": [
  {
   "cell_type": "code",
   "execution_count": 1,
   "metadata": {},
   "outputs": [],
   "source": [
    "# Classification for Stock: KNN, Bayes, Decision Tree"
   ]
  },
  {
   "cell_type": "code",
   "execution_count": 2,
   "metadata": {},
   "outputs": [],
   "source": [
    "# import package and datasets\n",
    "from sklearn.preprocessing import MinMaxScaler\n",
    "from sklearn.model_selection import train_test_split\n",
    "from sklearn.metrics import accuracy_score\n",
    "from sklearn import metrics, preprocessing\n",
    "\n",
    "import pandas as pd\n",
    "import numpy as np\n",
    "import matplotlib.pyplot as plt"
   ]
  },
  {
   "cell_type": "markdown",
   "metadata": {},
   "source": [
    "讀入csv檔'2882_17v1.csv'。"
   ]
  },
  {
   "cell_type": "code",
   "execution_count": 3,
   "metadata": {},
   "outputs": [],
   "source": []
  },
  {
   "cell_type": "markdown",
   "metadata": {},
   "source": [
    "看表頭"
   ]
  },
  {
   "cell_type": "code",
   "execution_count": 4,
   "metadata": {},
   "outputs": [
    {
     "data": {
      "text/html": [
       "<div>\n",
       "<style scoped>\n",
       "    .dataframe tbody tr th:only-of-type {\n",
       "        vertical-align: middle;\n",
       "    }\n",
       "\n",
       "    .dataframe tbody tr th {\n",
       "        vertical-align: top;\n",
       "    }\n",
       "\n",
       "    .dataframe thead th {\n",
       "        text-align: right;\n",
       "    }\n",
       "</style>\n",
       "<table border=\"1\" class=\"dataframe\">\n",
       "  <thead>\n",
       "    <tr style=\"text-align: right;\">\n",
       "      <th></th>\n",
       "      <th>日期</th>\n",
       "      <th>開盤</th>\n",
       "      <th>最高</th>\n",
       "      <th>最低</th>\n",
       "      <th>收盤</th>\n",
       "      <th>1d</th>\n",
       "      <th>5d</th>\n",
       "      <th>成交值千元</th>\n",
       "      <th>外資買賣超金額</th>\n",
       "      <th>投信買賣超金額</th>\n",
       "      <th>自營商買賣超金額</th>\n",
       "      <th>融資餘額張數</th>\n",
       "      <th>融券餘額張數</th>\n",
       "    </tr>\n",
       "  </thead>\n",
       "  <tbody>\n",
       "    <tr>\n",
       "      <th>0</th>\n",
       "      <td>20170103</td>\n",
       "      <td>48.10</td>\n",
       "      <td>48.20</td>\n",
       "      <td>47.70</td>\n",
       "      <td>48.00</td>\n",
       "      <td>0</td>\n",
       "      <td>1</td>\n",
       "      <td>293195.63</td>\n",
       "      <td>-12480.00</td>\n",
       "      <td>-1440.00</td>\n",
       "      <td>-35616.0</td>\n",
       "      <td>21667</td>\n",
       "      <td>4545</td>\n",
       "    </tr>\n",
       "    <tr>\n",
       "      <th>1</th>\n",
       "      <td>20170104</td>\n",
       "      <td>48.35</td>\n",
       "      <td>48.35</td>\n",
       "      <td>47.75</td>\n",
       "      <td>47.90</td>\n",
       "      <td>1</td>\n",
       "      <td>1</td>\n",
       "      <td>461387.88</td>\n",
       "      <td>8552.35</td>\n",
       "      <td>-8574.10</td>\n",
       "      <td>-12741.4</td>\n",
       "      <td>21563</td>\n",
       "      <td>4422</td>\n",
       "    </tr>\n",
       "    <tr>\n",
       "      <th>2</th>\n",
       "      <td>20170105</td>\n",
       "      <td>47.90</td>\n",
       "      <td>48.40</td>\n",
       "      <td>47.90</td>\n",
       "      <td>48.40</td>\n",
       "      <td>1</td>\n",
       "      <td>1</td>\n",
       "      <td>708032.56</td>\n",
       "      <td>44164.52</td>\n",
       "      <td>968.00</td>\n",
       "      <td>52998.0</td>\n",
       "      <td>21917</td>\n",
       "      <td>4401</td>\n",
       "    </tr>\n",
       "    <tr>\n",
       "      <th>3</th>\n",
       "      <td>20170106</td>\n",
       "      <td>48.80</td>\n",
       "      <td>48.80</td>\n",
       "      <td>48.15</td>\n",
       "      <td>48.75</td>\n",
       "      <td>1</td>\n",
       "      <td>0</td>\n",
       "      <td>850128.00</td>\n",
       "      <td>324610.16</td>\n",
       "      <td>5898.75</td>\n",
       "      <td>-40072.5</td>\n",
       "      <td>21405</td>\n",
       "      <td>4448</td>\n",
       "    </tr>\n",
       "    <tr>\n",
       "      <th>4</th>\n",
       "      <td>20170109</td>\n",
       "      <td>48.75</td>\n",
       "      <td>49.20</td>\n",
       "      <td>48.75</td>\n",
       "      <td>49.00</td>\n",
       "      <td>1</td>\n",
       "      <td>0</td>\n",
       "      <td>738486.00</td>\n",
       "      <td>276888.41</td>\n",
       "      <td>-4900.00</td>\n",
       "      <td>-38171.0</td>\n",
       "      <td>21180</td>\n",
       "      <td>4634</td>\n",
       "    </tr>\n",
       "  </tbody>\n",
       "</table>\n",
       "</div>"
      ],
      "text/plain": [
       "         日期     開盤     最高     最低     收盤  1d  5d      成交值千元    外資買賣超金額  \\\n",
       "0  20170103  48.10  48.20  47.70  48.00   0   1  293195.63  -12480.00   \n",
       "1  20170104  48.35  48.35  47.75  47.90   1   1  461387.88    8552.35   \n",
       "2  20170105  47.90  48.40  47.90  48.40   1   1  708032.56   44164.52   \n",
       "3  20170106  48.80  48.80  48.15  48.75   1   0  850128.00  324610.16   \n",
       "4  20170109  48.75  49.20  48.75  49.00   1   0  738486.00  276888.41   \n",
       "\n",
       "   投信買賣超金額  自營商買賣超金額  融資餘額張數  融券餘額張數  \n",
       "0 -1440.00  -35616.0   21667    4545  \n",
       "1 -8574.10  -12741.4   21563    4422  \n",
       "2   968.00   52998.0   21917    4401  \n",
       "3  5898.75  -40072.5   21405    4448  \n",
       "4 -4900.00  -38171.0   21180    4634  "
      ]
     },
     "execution_count": 4,
     "metadata": {},
     "output_type": "execute_result"
    }
   ],
   "source": []
  },
  {
   "cell_type": "markdown",
   "metadata": {},
   "source": [
    "下面這個步驟比較複雜，先丟棄預測值\"1d\"，並且把除了'日期'、'1d'、'5d'，之外的數值標準化\n",
    "提示：標準化可以用(數值減掉平均數/最大值-最小值)方法。\n",
    "可以先自訂意義函式，也可以使用之前教過的套件。"
   ]
  },
  {
   "cell_type": "code",
   "execution_count": 5,
   "metadata": {},
   "outputs": [],
   "source": [
    "# normalize\n"
   ]
  },
  {
   "cell_type": "markdown",
   "metadata": {},
   "source": [
    "檢查標準化過後的頭5筆資料"
   ]
  },
  {
   "cell_type": "code",
   "execution_count": 6,
   "metadata": {},
   "outputs": [
    {
     "data": {
      "text/html": [
       "<div>\n",
       "<style scoped>\n",
       "    .dataframe tbody tr th:only-of-type {\n",
       "        vertical-align: middle;\n",
       "    }\n",
       "\n",
       "    .dataframe tbody tr th {\n",
       "        vertical-align: top;\n",
       "    }\n",
       "\n",
       "    .dataframe thead th {\n",
       "        text-align: right;\n",
       "    }\n",
       "</style>\n",
       "<table border=\"1\" class=\"dataframe\">\n",
       "  <thead>\n",
       "    <tr style=\"text-align: right;\">\n",
       "      <th></th>\n",
       "      <th>開盤</th>\n",
       "      <th>最高</th>\n",
       "      <th>最低</th>\n",
       "      <th>收盤</th>\n",
       "      <th>成交值千元</th>\n",
       "      <th>外資買賣超金額</th>\n",
       "      <th>投信買賣超金額</th>\n",
       "      <th>自營商買賣超金額</th>\n",
       "      <th>融資餘額張數</th>\n",
       "      <th>融券餘額張數</th>\n",
       "    </tr>\n",
       "  </thead>\n",
       "  <tbody>\n",
       "    <tr>\n",
       "      <th>0</th>\n",
       "      <td>-0.148823</td>\n",
       "      <td>-0.157672</td>\n",
       "      <td>-0.163186</td>\n",
       "      <td>-0.154957</td>\n",
       "      <td>-0.107591</td>\n",
       "      <td>-0.026568</td>\n",
       "      <td>-0.002674</td>\n",
       "      <td>-0.063062</td>\n",
       "      <td>0.210706</td>\n",
       "      <td>0.669391</td>\n",
       "    </tr>\n",
       "    <tr>\n",
       "      <th>1</th>\n",
       "      <td>-0.119753</td>\n",
       "      <td>-0.141714</td>\n",
       "      <td>-0.157198</td>\n",
       "      <td>-0.166320</td>\n",
       "      <td>-0.073108</td>\n",
       "      <td>-0.015600</td>\n",
       "      <td>-0.014578</td>\n",
       "      <td>-0.027036</td>\n",
       "      <td>0.202059</td>\n",
       "      <td>0.644077</td>\n",
       "    </tr>\n",
       "    <tr>\n",
       "      <th>2</th>\n",
       "      <td>-0.172079</td>\n",
       "      <td>-0.136395</td>\n",
       "      <td>-0.139234</td>\n",
       "      <td>-0.109502</td>\n",
       "      <td>-0.022539</td>\n",
       "      <td>0.002969</td>\n",
       "      <td>0.001344</td>\n",
       "      <td>0.076501</td>\n",
       "      <td>0.231492</td>\n",
       "      <td>0.639755</td>\n",
       "    </tr>\n",
       "    <tr>\n",
       "      <th>3</th>\n",
       "      <td>-0.067428</td>\n",
       "      <td>-0.093842</td>\n",
       "      <td>-0.109294</td>\n",
       "      <td>-0.069729</td>\n",
       "      <td>0.006594</td>\n",
       "      <td>0.149206</td>\n",
       "      <td>0.009572</td>\n",
       "      <td>-0.070081</td>\n",
       "      <td>0.188921</td>\n",
       "      <td>0.649428</td>\n",
       "    </tr>\n",
       "    <tr>\n",
       "      <th>4</th>\n",
       "      <td>-0.073242</td>\n",
       "      <td>-0.051289</td>\n",
       "      <td>-0.037437</td>\n",
       "      <td>-0.041320</td>\n",
       "      <td>-0.016296</td>\n",
       "      <td>0.124322</td>\n",
       "      <td>-0.008447</td>\n",
       "      <td>-0.067086</td>\n",
       "      <td>0.170214</td>\n",
       "      <td>0.687707</td>\n",
       "    </tr>\n",
       "  </tbody>\n",
       "</table>\n",
       "</div>"
      ],
      "text/plain": [
       "         開盤        最高        最低        收盤     成交值千元   外資買賣超金額   投信買賣超金額  \\\n",
       "0 -0.148823 -0.157672 -0.163186 -0.154957 -0.107591 -0.026568 -0.002674   \n",
       "1 -0.119753 -0.141714 -0.157198 -0.166320 -0.073108 -0.015600 -0.014578   \n",
       "2 -0.172079 -0.136395 -0.139234 -0.109502 -0.022539  0.002969  0.001344   \n",
       "3 -0.067428 -0.093842 -0.109294 -0.069729  0.006594  0.149206  0.009572   \n",
       "4 -0.073242 -0.051289 -0.037437 -0.041320 -0.016296  0.124322 -0.008447   \n",
       "\n",
       "   自營商買賣超金額    融資餘額張數    融券餘額張數  \n",
       "0 -0.063062  0.210706  0.669391  \n",
       "1 -0.027036  0.202059  0.644077  \n",
       "2  0.076501  0.231492  0.639755  \n",
       "3 -0.070081  0.188921  0.649428  \n",
       "4 -0.067086  0.170214  0.687707  "
      ]
     },
     "execution_count": 6,
     "metadata": {},
     "output_type": "execute_result"
    }
   ],
   "source": []
  },
  {
   "cell_type": "markdown",
   "metadata": {},
   "source": [
    "分測試、訓練集。 預測標籤'1d'，測試集大小0.3。"
   ]
  },
  {
   "cell_type": "code",
   "execution_count": 7,
   "metadata": {},
   "outputs": [],
   "source": [
    "\n"
   ]
  },
  {
   "cell_type": "code",
   "execution_count": 8,
   "metadata": {},
   "outputs": [
    {
     "name": "stdout",
     "output_type": "stream",
     "text": [
      "74\n",
      "172\n",
      "74\n",
      "172\n"
     ]
    }
   ],
   "source": [
    "# check the training and testing data~\n",
    "print(len(X_test))\n",
    "print(len(X_train))\n",
    "print(len(y_test))\n",
    "print(len(y_train))"
   ]
  },
  {
   "cell_type": "markdown",
   "metadata": {},
   "source": [
    "印出X_test"
   ]
  },
  {
   "cell_type": "code",
   "execution_count": 9,
   "metadata": {},
   "outputs": [
    {
     "name": "stdout",
     "output_type": "stream",
     "text": [
      "           開盤        最高        最低        收盤     成交值千元   外資買賣超金額   投信買賣超金額  \\\n",
      "38  -0.044172 -0.051289 -0.031449 -0.041320 -0.025617  0.022784  0.072174   \n",
      "114  0.130247  0.108286  0.106275  0.117771  0.064693 -0.016504 -0.012970   \n",
      "243  0.409317  0.448711  0.459569  0.504134 -0.076336  0.082588 -0.037528   \n",
      "185 -0.131381 -0.115118 -0.121270 -0.115184 -0.038757  0.005078  0.001692   \n",
      "23  -0.032544 -0.061927 -0.109294 -0.126547 -0.036219 -0.051812 -0.009289   \n",
      "..        ...       ...       ...       ...       ...       ...       ...   \n",
      "232  0.432572  0.395520  0.435617  0.413225  0.028729 -0.086329  0.061107   \n",
      "27  -0.020916 -0.030012 -0.037437 -0.012911  0.009593  0.199551 -0.009886   \n",
      "97  -0.206963 -0.216182 -0.199114 -0.206093 -0.119387 -0.021548 -0.149443   \n",
      "139 -0.032544 -0.051289 -0.019473 -0.041320 -0.076581 -0.073807 -0.002315   \n",
      "35  -0.061614 -0.019374 -0.115282 -0.069729  0.240475  0.067369  0.023239   \n",
      "\n",
      "     自營商買賣超金額    融資餘額張數    融券餘額張數  \n",
      "38  -0.102200  0.002674  0.373239  \n",
      "114  0.094555 -0.085960 -0.263723  \n",
      "243 -0.000105  0.276225 -0.053598  \n",
      "185  0.009175 -0.184738 -0.166378  \n",
      "23  -0.042837  0.197569  0.369329  \n",
      "..        ...       ...       ...  \n",
      "232 -0.093113  0.595257 -0.058949  \n",
      "27   0.042674  0.132964  0.418516  \n",
      "97   0.032273 -0.003063 -0.159381  \n",
      "139 -0.000178 -0.002315 -0.211861  \n",
      "35   0.194500  0.008411  0.396701  \n",
      "\n",
      "[74 rows x 10 columns]\n"
     ]
    }
   ],
   "source": []
  },
  {
   "cell_type": "code",
   "execution_count": null,
   "metadata": {},
   "outputs": [],
   "source": [
    "用kNN 訓練、測試、然後印出資料"
   ]
  },
  {
   "cell_type": "code",
   "execution_count": 10,
   "metadata": {},
   "outputs": [
    {
     "name": "stdout",
     "output_type": "stream",
     "text": [
      "[1 0 0 1 0 0 0 0 0 1 1 1 0 1 0 0 0 1 1 1 1 0 1 0 0 1 1 1 0 1 0 1 0 0 1 0 0\n",
      " 0 1 1 1 1 0 0 0 0 1 1 1 0 0 0 1 1 1 0 0 1 0 0 1 1 0 0 0 0 0 0 0 0 1 1 0 1]\n",
      "38     1\n",
      "114    0\n",
      "243    0\n",
      "185    1\n",
      "23     1\n",
      "      ..\n",
      "232    1\n",
      "27     0\n",
      "97     1\n",
      "139    1\n",
      "35     0\n",
      "Name: 1d, Length: 74, dtype: int64\n"
     ]
    }
   ],
   "source": [
    "# KNN algorithm\n",
    "\n",
    "# import algorithm from sklearn\n",
    "\n",
    "\n",
    "# build model\n",
    "\n",
    "\n",
    "# training data\n",
    "\n",
    "\n",
    "# predict data\n",
    "\n",
    "\n",
    "# print result"
   ]
  },
  {
   "cell_type": "code",
   "execution_count": 11,
   "metadata": {},
   "outputs": [
    {
     "name": "stdout",
     "output_type": "stream",
     "text": [
      "[[22 23]\n",
      " [19 10]]\n",
      "0.43243243243243246\n",
      "              precision    recall  f1-score   support\n",
      "\n",
      "           0       0.49      0.54      0.51        41\n",
      "           1       0.34      0.30      0.32        33\n",
      "\n",
      "    accuracy                           0.43        74\n",
      "   macro avg       0.42      0.42      0.42        74\n",
      "weighted avg       0.42      0.43      0.43        74\n",
      "\n"
     ]
    }
   ],
   "source": [
    "# print report\n"
   ]
  },
  {
   "cell_type": "code",
   "execution_count": 12,
   "metadata": {},
   "outputs": [],
   "source": [
    "# Naive Bayes Algorithm"
   ]
  },
  {
   "cell_type": "markdown",
   "metadata": {},
   "source": [
    "樸素貝氏演算法做一樣的事情"
   ]
  },
  {
   "cell_type": "code",
   "execution_count": 13,
   "metadata": {},
   "outputs": [
    {
     "name": "stdout",
     "output_type": "stream",
     "text": [
      "[0 0 0 1 0 0 1 0 1 0 0 1 1 1 1 1 0 1 0 1 0 0 0 1 0 1 1 1 0 1 0 1 0 0 0 0 0\n",
      " 0 0 0 1 1 0 0 1 0 1 0 1 0 1 0 1 0 0 1 0 0 0 1 1 1 1 0 0 0 1 1 1 0 0 1 1 1]\n",
      "<bound method IndexOpsMixin.to_numpy of 38     1\n",
      "114    0\n",
      "243    0\n",
      "185    1\n",
      "23     1\n",
      "      ..\n",
      "232    1\n",
      "27     0\n",
      "97     1\n",
      "139    1\n",
      "35     0\n",
      "Name: 1d, Length: 74, dtype: int64>\n"
     ]
    }
   ],
   "source": [
    "# Naive Bayes\n",
    "\n",
    "# from sklearn.naive_bayes import GaussianNB\n",
    "\n",
    "\n",
    "# build model\n",
    "\n",
    "#kernel要調的好, 但會有過度學習的狀況\n",
    "\n",
    "# training data\n",
    " \n",
    "\n",
    "# predict\n",
    "\n",
    "\n",
    "# print result\n",
    "print(y_pred)\n",
    "print(y_test.to_numpy)"
   ]
  },
  {
   "cell_type": "code",
   "execution_count": 14,
   "metadata": {},
   "outputs": [
    {
     "name": "stdout",
     "output_type": "stream",
     "text": [
      "[[29 16]\n",
      " [11 18]]\n",
      "0.6351351351351351\n",
      "              precision    recall  f1-score   support\n",
      "\n",
      "           0       0.64      0.72      0.68        40\n",
      "           1       0.62      0.53      0.57        34\n",
      "\n",
      "    accuracy                           0.64        74\n",
      "   macro avg       0.63      0.63      0.63        74\n",
      "weighted avg       0.63      0.64      0.63        74\n",
      "\n"
     ]
    }
   ],
   "source": [
    "# print report\n"
   ]
  },
  {
   "cell_type": "code",
   "execution_count": 1,
   "metadata": {},
   "outputs": [],
   "source": [
    "# Decision Tree Algorithm"
   ]
  },
  {
   "cell_type": "markdown",
   "metadata": {},
   "source": [
    "決策樹"
   ]
  },
  {
   "cell_type": "code",
   "execution_count": 16,
   "metadata": {},
   "outputs": [
    {
     "name": "stdout",
     "output_type": "stream",
     "text": [
      "[0 1 0 0 0 0 0 0 1 1 1 1 0 0 1 1 0 0 0 1 0 1 1 1 0 1 1 1 0 1 1 0 0 0 0 0 1\n",
      " 1 1 1 1 0 1 0 0 1 1 1 0 0 0 1 1 1 0 0 1 0 0 0 1 1 0 1 0 0 1 0 1 0 0 0 0 0]\n",
      "38     1\n",
      "114    0\n",
      "243    0\n",
      "185    1\n",
      "23     1\n",
      "      ..\n",
      "232    1\n",
      "27     0\n",
      "97     1\n",
      "139    1\n",
      "35     0\n",
      "Name: 1d, Length: 74, dtype: int64\n"
     ]
    }
   ],
   "source": [
    "# decision tree\n",
    "\n",
    "\n",
    "# build model\n",
    "\n",
    "\n",
    "# training data\n",
    "\n",
    "\n",
    "# predict data\n",
    "\n",
    "\n",
    "# print reulst\n",
    "\n"
   ]
  },
  {
   "cell_type": "code",
   "execution_count": 17,
   "metadata": {},
   "outputs": [
    {
     "name": "stdout",
     "output_type": "stream",
     "text": [
      "[[21 24]\n",
      " [19 10]]\n",
      "0.4189189189189189\n",
      "              precision    recall  f1-score   support\n",
      "\n",
      "           0       0.47      0.53      0.49        40\n",
      "           1       0.34      0.29      0.32        34\n",
      "\n",
      "    accuracy                           0.42        74\n",
      "   macro avg       0.41      0.41      0.41        74\n",
      "weighted avg       0.41      0.42      0.41        74\n",
      "\n"
     ]
    }
   ],
   "source": [
    "# print report\n"
   ]
  },
  {
   "cell_type": "code",
   "execution_count": null,
   "metadata": {},
   "outputs": [],
   "source": []
  },
  {
   "cell_type": "code",
   "execution_count": null,
   "metadata": {},
   "outputs": [],
   "source": []
  }
 ],
 "metadata": {
  "kernelspec": {
   "display_name": "Python 3",
   "language": "python",
   "name": "python3"
  },
  "language_info": {
   "codemirror_mode": {
    "name": "ipython",
    "version": 3
   },
   "file_extension": ".py",
   "mimetype": "text/x-python",
   "name": "python",
   "nbconvert_exporter": "python",
   "pygments_lexer": "ipython3",
   "version": "3.8.8"
  }
 },
 "nbformat": 4,
 "nbformat_minor": 2
}

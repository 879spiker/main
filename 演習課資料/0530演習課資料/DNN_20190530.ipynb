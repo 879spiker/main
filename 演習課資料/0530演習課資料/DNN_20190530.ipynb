{
 "cells": [
  {
   "cell_type": "code",
   "execution_count": 1,
   "metadata": {},
   "outputs": [
    {
     "name": "stderr",
     "output_type": "stream",
     "text": [
      "Using TensorFlow backend.\n"
     ]
    }
   ],
   "source": [
    "# Deep Neural Network\n",
    "\n",
    "# import related package\n",
    "import pandas as pd\n",
    "import numpy as np  \n",
    "from matplotlib import pyplot as plt\n",
    "\n",
    "# import keras pacakge\n",
    "from keras.models import Sequential\n",
    "from keras.layers import Dense, Dropout, Activation, Flatten\n",
    "from keras.utils import np_utils  # one-hot-encoding  \n",
    "\n",
    "# import MNIST dataset\n",
    "from keras.datasets import mnist\n",
    "# https://en.wikipedia.org/wiki/MNIST_database"
   ]
  },
  {
   "cell_type": "code",
   "execution_count": 2,
   "metadata": {},
   "outputs": [],
   "source": [
    "# data preprocess as training and testing datasets \n",
    "(X_train, y_train), (X_test, y_test) = mnist.load_data()"
   ]
  },
  {
   "cell_type": "code",
   "execution_count": 3,
   "metadata": {},
   "outputs": [
    {
     "name": "stdout",
     "output_type": "stream",
     "text": [
      "Train images shape: (60000, 28, 28)\n",
      "Train labels shape: (60000,)\n",
      "Test images shape: (10000, 28, 28)\n",
      "Test labels shape: (10000,)\n",
      "Train labels: [5 0 4 ... 5 6 8]\n",
      "Test labels: [7 2 1 ... 4 5 6]\n"
     ]
    }
   ],
   "source": [
    "# review data shape\n",
    "def d_s(X_train, y_train, X_test, y_test):\n",
    "    print('Train images shape:', X_train.shape)\n",
    "    print('Train labels shape:', y_train.shape)\n",
    "    print('Test images shape:', X_test.shape)\n",
    "    print('Test labels shape:', y_test.shape)\n",
    "    print('Train labels:', y_train)\n",
    "    print('Test labels:', y_test)\n",
    "    \n",
    "d_s(X_train, y_train, X_test, y_test)"
   ]
  },
  {
   "cell_type": "code",
   "execution_count": 4,
   "metadata": {},
   "outputs": [
    {
     "data": {
      "image/png": "[encoded data removed]",
      "text/plain": [
       "<Figure size 432x288 with 1 Axes>"
      ]
     },
     "metadata": {
      "needs_background": "light"
     },
     "output_type": "display_data"
    }
   ],
   "source": [
    "# print\n",
    "plt.imshow(X_train[1])\n",
    "plt.show() "
   ]
  },
  {
   "cell_type": "code",
   "execution_count": 5,
   "metadata": {},
   "outputs": [
    {
     "data": {
      "text/plain": [
       "array([[  0,   0,   0,   0,   0,   0,   0,   0,   0,   0,   0,   0,   0,\n",
       "          0,   0,   0,   0,   0,   0,   0,   0,   0,   0,   0,   0,   0,\n",
       "          0,   0],\n",
       "       [  0,   0,   0,   0,   0,   0,   0,   0,   0,   0,   0,   0,   0,\n",
       "          0,   0,   0,   0,   0,   0,   0,   0,   0,   0,   0,   0,   0,\n",
       "          0,   0],\n",
       "       [  0,   0,   0,   0,   0,   0,   0,   0,   0,   0,   0,   0,   0,\n",
       "          0,   0,   0,   0,   0,   0,   0,   0,   0,   0,   0,   0,   0,\n",
       "          0,   0],\n",
       "       [  0,   0,   0,   0,   0,   0,   0,   0,   0,   0,   0,   0,   0,\n",
       "          0,   0,   0,   0,   0,   0,   0,   0,   0,   0,   0,   0,   0,\n",
       "          0,   0],\n",
       "       [  0,   0,   0,   0,   0,   0,   0,   0,   0,   0,   0,   0,   0,\n",
       "          0,   0,  51, 159, 253, 159,  50,   0,   0,   0,   0,   0,   0,\n",
       "          0,   0],\n",
       "       [  0,   0,   0,   0,   0,   0,   0,   0,   0,   0,   0,   0,   0,\n",
       "          0,  48, 238, 252, 252, 252, 237,   0,   0,   0,   0,   0,   0,\n",
       "          0,   0],\n",
       "       [  0,   0,   0,   0,   0,   0,   0,   0,   0,   0,   0,   0,   0,\n",
       "         54, 227, 253, 252, 239, 233, 252,  57,   6,   0,   0,   0,   0,\n",
       "          0,   0],\n",
       "       [  0,   0,   0,   0,   0,   0,   0,   0,   0,   0,   0,  10,  60,\n",
       "        224, 252, 253, 252, 202,  84, 252, 253, 122,   0,   0,   0,   0,\n",
       "          0,   0],\n",
       "       [  0,   0,   0,   0,   0,   0,   0,   0,   0,   0,   0, 163, 252,\n",
       "        252, 252, 253, 252, 252,  96, 189, 253, 167,   0,   0,   0,   0,\n",
       "          0,   0],\n",
       "       [  0,   0,   0,   0,   0,   0,   0,   0,   0,   0,  51, 238, 253,\n",
       "        253, 190, 114, 253, 228,  47,  79, 255, 168,   0,   0,   0,   0,\n",
       "          0,   0],\n",
       "       [  0,   0,   0,   0,   0,   0,   0,   0,   0,  48, 238, 252, 252,\n",
       "        179,  12,  75, 121,  21,   0,   0, 253, 243,  50,   0,   0,   0,\n",
       "          0,   0],\n",
       "       [  0,   0,   0,   0,   0,   0,   0,   0,  38, 165, 253, 233, 208,\n",
       "         84,   0,   0,   0,   0,   0,   0, 253, 252, 165,   0,   0,   0,\n",
       "          0,   0],\n",
       "       [  0,   0,   0,   0,   0,   0,   0,   7, 178, 252, 240,  71,  19,\n",
       "         28,   0,   0,   0,   0,   0,   0, 253, 252, 195,   0,   0,   0,\n",
       "          0,   0],\n",
       "       [  0,   0,   0,   0,   0,   0,   0,  57, 252, 252,  63,   0,   0,\n",
       "          0,   0,   0,   0,   0,   0,   0, 253, 252, 195,   0,   0,   0,\n",
       "          0,   0],\n",
       "       [  0,   0,   0,   0,   0,   0,   0, 198, 253, 190,   0,   0,   0,\n",
       "          0,   0,   0,   0,   0,   0,   0, 255, 253, 196,   0,   0,   0,\n",
       "          0,   0],\n",
       "       [  0,   0,   0,   0,   0,   0,  76, 246, 252, 112,   0,   0,   0,\n",
       "          0,   0,   0,   0,   0,   0,   0, 253, 252, 148,   0,   0,   0,\n",
       "          0,   0],\n",
       "       [  0,   0,   0,   0,   0,   0,  85, 252, 230,  25,   0,   0,   0,\n",
       "          0,   0,   0,   0,   0,   7, 135, 253, 186,  12,   0,   0,   0,\n",
       "          0,   0],\n",
       "       [  0,   0,   0,   0,   0,   0,  85, 252, 223,   0,   0,   0,   0,\n",
       "          0,   0,   0,   0,   7, 131, 252, 225,  71,   0,   0,   0,   0,\n",
       "          0,   0],\n",
       "       [  0,   0,   0,   0,   0,   0,  85, 252, 145,   0,   0,   0,   0,\n",
       "          0,   0,   0,  48, 165, 252, 173,   0,   0,   0,   0,   0,   0,\n",
       "          0,   0],\n",
       "       [  0,   0,   0,   0,   0,   0,  86, 253, 225,   0,   0,   0,   0,\n",
       "          0,   0, 114, 238, 253, 162,   0,   0,   0,   0,   0,   0,   0,\n",
       "          0,   0],\n",
       "       [  0,   0,   0,   0,   0,   0,  85, 252, 249, 146,  48,  29,  85,\n",
       "        178, 225, 253, 223, 167,  56,   0,   0,   0,   0,   0,   0,   0,\n",
       "          0,   0],\n",
       "       [  0,   0,   0,   0,   0,   0,  85, 252, 252, 252, 229, 215, 252,\n",
       "        252, 252, 196, 130,   0,   0,   0,   0,   0,   0,   0,   0,   0,\n",
       "          0,   0],\n",
       "       [  0,   0,   0,   0,   0,   0,  28, 199, 252, 252, 253, 252, 252,\n",
       "        233, 145,   0,   0,   0,   0,   0,   0,   0,   0,   0,   0,   0,\n",
       "          0,   0],\n",
       "       [  0,   0,   0,   0,   0,   0,   0,  25, 128, 252, 253, 252, 141,\n",
       "         37,   0,   0,   0,   0,   0,   0,   0,   0,   0,   0,   0,   0,\n",
       "          0,   0],\n",
       "       [  0,   0,   0,   0,   0,   0,   0,   0,   0,   0,   0,   0,   0,\n",
       "          0,   0,   0,   0,   0,   0,   0,   0,   0,   0,   0,   0,   0,\n",
       "          0,   0],\n",
       "       [  0,   0,   0,   0,   0,   0,   0,   0,   0,   0,   0,   0,   0,\n",
       "          0,   0,   0,   0,   0,   0,   0,   0,   0,   0,   0,   0,   0,\n",
       "          0,   0],\n",
       "       [  0,   0,   0,   0,   0,   0,   0,   0,   0,   0,   0,   0,   0,\n",
       "          0,   0,   0,   0,   0,   0,   0,   0,   0,   0,   0,   0,   0,\n",
       "          0,   0],\n",
       "       [  0,   0,   0,   0,   0,   0,   0,   0,   0,   0,   0,   0,   0,\n",
       "          0,   0,   0,   0,   0,   0,   0,   0,   0,   0,   0,   0,   0,\n",
       "          0,   0]], dtype=uint8)"
      ]
     },
     "execution_count": 5,
     "metadata": {},
     "output_type": "execute_result"
    }
   ],
   "source": [
    "# review pixel\n",
    "X_train[1]"
   ]
  },
  {
   "cell_type": "code",
   "execution_count": 6,
   "metadata": {},
   "outputs": [],
   "source": [
    "# 1, Model selection and setting\n",
    "\n",
    "model = Sequential()\n",
    "\n",
    "# Input layer and hidden layer  (256 is Hyperparameter )\n",
    "model.add(Dense(units=256, input_dim=784, kernel_initializer='normal', activation='relu')) \n",
    "\n",
    "# Output layer\n",
    "model.add(Dense(units=10, kernel_initializer='normal', activation='softmax'))"
   ]
  },
  {
   "cell_type": "code",
   "execution_count": 7,
   "metadata": {},
   "outputs": [],
   "source": [
    "# 2, Model compile setting\n",
    "\n",
    "model.compile(loss='categorical_crossentropy', optimizer='adam', metrics=['accuracy']) "
   ]
  },
  {
   "cell_type": "code",
   "execution_count": 8,
   "metadata": {},
   "outputs": [],
   "source": [
    "# training data reshape\n",
    "\n",
    "X_train_2D = X_train.reshape(60000, 28*28).astype('float32')  \n",
    "X_test_2D = X_test.reshape(10000, 28*28).astype('float32')  \n",
    "\n",
    "# normalization\n",
    "x_Train_norm = X_train_2D/255\n",
    "x_Test_norm = X_test_2D/255"
   ]
  },
  {
   "cell_type": "code",
   "execution_count": 9,
   "metadata": {},
   "outputs": [
    {
     "data": {
      "text/plain": [
       "array([0.        , 0.        , 0.        , 0.        , 0.        ,\n",
       "       0.        , 0.        , 0.        , 0.        , 0.        ,\n",
       "       0.        , 0.        , 0.        , 0.        , 0.        ,\n",
       "       0.        , 0.        , 0.        , 0.        , 0.        ,\n",
       "       0.        , 0.        , 0.        , 0.        , 0.        ,\n",
       "       0.        , 0.        , 0.        , 0.        , 0.        ,\n",
       "       0.        , 0.        , 0.        , 0.        , 0.        ,\n",
       "       0.        , 0.        , 0.        , 0.        , 0.        ,\n",
       "       0.        , 0.        , 0.        , 0.        , 0.        ,\n",
       "       0.        , 0.        , 0.        , 0.        , 0.        ,\n",
       "       0.        , 0.        , 0.        , 0.        , 0.        ,\n",
       "       0.        , 0.        , 0.        , 0.        , 0.        ,\n",
       "       0.        , 0.        , 0.        , 0.        , 0.        ,\n",
       "       0.        , 0.        , 0.        , 0.        , 0.        ,\n",
       "       0.        , 0.        , 0.        , 0.        , 0.        ,\n",
       "       0.        , 0.        , 0.        , 0.        , 0.        ,\n",
       "       0.        , 0.        , 0.        , 0.        , 0.        ,\n",
       "       0.        , 0.        , 0.        , 0.        , 0.        ,\n",
       "       0.        , 0.        , 0.        , 0.        , 0.        ,\n",
       "       0.        , 0.        , 0.        , 0.        , 0.        ,\n",
       "       0.        , 0.        , 0.        , 0.        , 0.        ,\n",
       "       0.        , 0.        , 0.        , 0.        , 0.        ,\n",
       "       0.        , 0.        , 0.        , 0.        , 0.        ,\n",
       "       0.        , 0.        , 0.        , 0.        , 0.        ,\n",
       "       0.        , 0.        , 0.        , 0.        , 0.        ,\n",
       "       0.        , 0.        , 0.        , 0.        , 0.        ,\n",
       "       0.        , 0.        , 0.        , 0.        , 0.        ,\n",
       "       0.        , 0.        , 0.        , 0.        , 0.        ,\n",
       "       0.        , 0.        , 0.        , 0.        , 0.        ,\n",
       "       0.        , 0.        , 0.        , 0.        , 0.        ,\n",
       "       0.        , 0.        , 0.01176471, 0.07058824, 0.07058824,\n",
       "       0.07058824, 0.49411765, 0.53333336, 0.6862745 , 0.10196079,\n",
       "       0.6509804 , 1.        , 0.96862745, 0.49803922, 0.        ,\n",
       "       0.        , 0.        , 0.        , 0.        , 0.        ,\n",
       "       0.        , 0.        , 0.        , 0.        , 0.        ,\n",
       "       0.        , 0.11764706, 0.14117648, 0.36862746, 0.6039216 ,\n",
       "       0.6666667 , 0.99215686, 0.99215686, 0.99215686, 0.99215686,\n",
       "       0.99215686, 0.88235295, 0.6745098 , 0.99215686, 0.9490196 ,\n",
       "       0.7647059 , 0.2509804 , 0.        , 0.        , 0.        ,\n",
       "       0.        , 0.        , 0.        , 0.        , 0.        ,\n",
       "       0.        , 0.        , 0.        , 0.19215687, 0.93333334,\n",
       "       0.99215686, 0.99215686, 0.99215686, 0.99215686, 0.99215686,\n",
       "       0.99215686, 0.99215686, 0.99215686, 0.9843137 , 0.3647059 ,\n",
       "       0.32156864, 0.32156864, 0.21960784, 0.15294118, 0.        ,\n",
       "       0.        , 0.        , 0.        , 0.        , 0.        ,\n",
       "       0.        , 0.        , 0.        , 0.        , 0.        ,\n",
       "       0.        , 0.07058824, 0.85882354, 0.99215686, 0.99215686,\n",
       "       0.99215686, 0.99215686, 0.99215686, 0.7764706 , 0.7137255 ,\n",
       "       0.96862745, 0.94509804, 0.        , 0.        , 0.        ,\n",
       "       0.        , 0.        , 0.        , 0.        , 0.        ,\n",
       "       0.        , 0.        , 0.        , 0.        , 0.        ,\n",
       "       0.        , 0.        , 0.        , 0.        , 0.        ,\n",
       "       0.3137255 , 0.6117647 , 0.41960785, 0.99215686, 0.99215686,\n",
       "       0.8039216 , 0.04313726, 0.        , 0.16862746, 0.6039216 ,\n",
       "       0.        , 0.        , 0.        , 0.        , 0.        ,\n",
       "       0.        , 0.        , 0.        , 0.        , 0.        ,\n",
       "       0.        , 0.        , 0.        , 0.        , 0.        ,\n",
       "       0.        , 0.        , 0.        , 0.        , 0.05490196,\n",
       "       0.00392157, 0.6039216 , 0.99215686, 0.3529412 , 0.        ,\n",
       "       0.        , 0.        , 0.        , 0.        , 0.        ,\n",
       "       0.        , 0.        , 0.        , 0.        , 0.        ,\n",
       "       0.        , 0.        , 0.        , 0.        , 0.        ,\n",
       "       0.        , 0.        , 0.        , 0.        , 0.        ,\n",
       "       0.        , 0.        , 0.        , 0.        , 0.54509807,\n",
       "       0.99215686, 0.74509805, 0.00784314, 0.        , 0.        ,\n",
       "       0.        , 0.        , 0.        , 0.        , 0.        ,\n",
       "       0.        , 0.        , 0.        , 0.        , 0.        ,\n",
       "       0.        , 0.        , 0.        , 0.        , 0.        ,\n",
       "       0.        , 0.        , 0.        , 0.        , 0.        ,\n",
       "       0.        , 0.        , 0.04313726, 0.74509805, 0.99215686,\n",
       "       0.27450982, 0.        , 0.        , 0.        , 0.        ,\n",
       "       0.        , 0.        , 0.        , 0.        , 0.        ,\n",
       "       0.        , 0.        , 0.        , 0.        , 0.        ,\n",
       "       0.        , 0.        , 0.        , 0.        , 0.        ,\n",
       "       0.        , 0.        , 0.        , 0.        , 0.        ,\n",
       "       0.        , 0.13725491, 0.94509804, 0.88235295, 0.627451  ,\n",
       "       0.42352942, 0.00392157, 0.        , 0.        , 0.        ,\n",
       "       0.        , 0.        , 0.        , 0.        , 0.        ,\n",
       "       0.        , 0.        , 0.        , 0.        , 0.        ,\n",
       "       0.        , 0.        , 0.        , 0.        , 0.        ,\n",
       "       0.        , 0.        , 0.        , 0.        , 0.        ,\n",
       "       0.31764707, 0.9411765 , 0.99215686, 0.99215686, 0.46666667,\n",
       "       0.09803922, 0.        , 0.        , 0.        , 0.        ,\n",
       "       0.        , 0.        , 0.        , 0.        , 0.        ,\n",
       "       0.        , 0.        , 0.        , 0.        , 0.        ,\n",
       "       0.        , 0.        , 0.        , 0.        , 0.        ,\n",
       "       0.        , 0.        , 0.        , 0.        , 0.1764706 ,\n",
       "       0.7294118 , 0.99215686, 0.99215686, 0.5882353 , 0.10588235,\n",
       "       0.        , 0.        , 0.        , 0.        , 0.        ,\n",
       "       0.        , 0.        , 0.        , 0.        , 0.        ,\n",
       "       0.        , 0.        , 0.        , 0.        , 0.        ,\n",
       "       0.        , 0.        , 0.        , 0.        , 0.        ,\n",
       "       0.        , 0.        , 0.        , 0.0627451 , 0.3647059 ,\n",
       "       0.9882353 , 0.99215686, 0.73333335, 0.        , 0.        ,\n",
       "       0.        , 0.        , 0.        , 0.        , 0.        ,\n",
       "       0.        , 0.        , 0.        , 0.        , 0.        ,\n",
       "       0.        , 0.        , 0.        , 0.        , 0.        ,\n",
       "       0.        , 0.        , 0.        , 0.        , 0.        ,\n",
       "       0.        , 0.        , 0.        , 0.9764706 , 0.99215686,\n",
       "       0.9764706 , 0.2509804 , 0.        , 0.        , 0.        ,\n",
       "       0.        , 0.        , 0.        , 0.        , 0.        ,\n",
       "       0.        , 0.        , 0.        , 0.        , 0.        ,\n",
       "       0.        , 0.        , 0.        , 0.        , 0.        ,\n",
       "       0.        , 0.        , 0.        , 0.18039216, 0.50980395,\n",
       "       0.7176471 , 0.99215686, 0.99215686, 0.8117647 , 0.00784314,\n",
       "       0.        , 0.        , 0.        , 0.        , 0.        ,\n",
       "       0.        , 0.        , 0.        , 0.        , 0.        ,\n",
       "       0.        , 0.        , 0.        , 0.        , 0.        ,\n",
       "       0.        , 0.        , 0.        , 0.        , 0.15294118,\n",
       "       0.5803922 , 0.8980392 , 0.99215686, 0.99215686, 0.99215686,\n",
       "       0.98039216, 0.7137255 , 0.        , 0.        , 0.        ,\n",
       "       0.        , 0.        , 0.        , 0.        , 0.        ,\n",
       "       0.        , 0.        , 0.        , 0.        , 0.        ,\n",
       "       0.        , 0.        , 0.        , 0.        , 0.        ,\n",
       "       0.09411765, 0.44705883, 0.8666667 , 0.99215686, 0.99215686,\n",
       "       0.99215686, 0.99215686, 0.7882353 , 0.30588236, 0.        ,\n",
       "       0.        , 0.        , 0.        , 0.        , 0.        ,\n",
       "       0.        , 0.        , 0.        , 0.        , 0.        ,\n",
       "       0.        , 0.        , 0.        , 0.        , 0.        ,\n",
       "       0.        , 0.09019608, 0.25882354, 0.8352941 , 0.99215686,\n",
       "       0.99215686, 0.99215686, 0.99215686, 0.7764706 , 0.31764707,\n",
       "       0.00784314, 0.        , 0.        , 0.        , 0.        ,\n",
       "       0.        , 0.        , 0.        , 0.        , 0.        ,\n",
       "       0.        , 0.        , 0.        , 0.        , 0.        ,\n",
       "       0.        , 0.        , 0.07058824, 0.67058825, 0.85882354,\n",
       "       0.99215686, 0.99215686, 0.99215686, 0.99215686, 0.7647059 ,\n",
       "       0.3137255 , 0.03529412, 0.        , 0.        , 0.        ,\n",
       "       0.        , 0.        , 0.        , 0.        , 0.        ,\n",
       "       0.        , 0.        , 0.        , 0.        , 0.        ,\n",
       "       0.        , 0.        , 0.        , 0.21568628, 0.6745098 ,\n",
       "       0.8862745 , 0.99215686, 0.99215686, 0.99215686, 0.99215686,\n",
       "       0.95686275, 0.52156866, 0.04313726, 0.        , 0.        ,\n",
       "       0.        , 0.        , 0.        , 0.        , 0.        ,\n",
       "       0.        , 0.        , 0.        , 0.        , 0.        ,\n",
       "       0.        , 0.        , 0.        , 0.        , 0.        ,\n",
       "       0.        , 0.53333336, 0.99215686, 0.99215686, 0.99215686,\n",
       "       0.83137256, 0.5294118 , 0.5176471 , 0.0627451 , 0.        ,\n",
       "       0.        , 0.        , 0.        , 0.        , 0.        ,\n",
       "       0.        , 0.        , 0.        , 0.        , 0.        ,\n",
       "       0.        , 0.        , 0.        , 0.        , 0.        ,\n",
       "       0.        , 0.        , 0.        , 0.        , 0.        ,\n",
       "       0.        , 0.        , 0.        , 0.        , 0.        ,\n",
       "       0.        , 0.        , 0.        , 0.        , 0.        ,\n",
       "       0.        , 0.        , 0.        , 0.        , 0.        ,\n",
       "       0.        , 0.        , 0.        , 0.        , 0.        ,\n",
       "       0.        , 0.        , 0.        , 0.        , 0.        ,\n",
       "       0.        , 0.        , 0.        , 0.        , 0.        ,\n",
       "       0.        , 0.        , 0.        , 0.        , 0.        ,\n",
       "       0.        , 0.        , 0.        , 0.        , 0.        ,\n",
       "       0.        , 0.        , 0.        , 0.        , 0.        ,\n",
       "       0.        , 0.        , 0.        , 0.        , 0.        ,\n",
       "       0.        , 0.        , 0.        , 0.        , 0.        ,\n",
       "       0.        , 0.        , 0.        , 0.        , 0.        ,\n",
       "       0.        , 0.        , 0.        , 0.        , 0.        ,\n",
       "       0.        , 0.        , 0.        , 0.        , 0.        ,\n",
       "       0.        , 0.        , 0.        , 0.        , 0.        ,\n",
       "       0.        , 0.        , 0.        , 0.        ], dtype=float32)"
      ]
     },
     "execution_count": 9,
     "metadata": {},
     "output_type": "execute_result"
    }
   ],
   "source": [
    "# review train data after normalization\n",
    "x_Train_norm[0]"
   ]
  },
  {
   "cell_type": "code",
   "execution_count": 10,
   "metadata": {},
   "outputs": [],
   "source": [
    "# for y value: one-hot encoding  (result comparision)\n",
    "\n",
    "y_TrainOneHot = np_utils.to_categorical(y_train) \n",
    "y_TestOneHot = np_utils.to_categorical(y_test) "
   ]
  },
  {
   "cell_type": "code",
   "execution_count": 11,
   "metadata": {},
   "outputs": [
    {
     "data": {
      "text/plain": [
       "0"
      ]
     },
     "execution_count": 11,
     "metadata": {},
     "output_type": "execute_result"
    }
   ],
   "source": [
    "# check\n",
    "y_train[1]"
   ]
  },
  {
   "cell_type": "code",
   "execution_count": 12,
   "metadata": {},
   "outputs": [
    {
     "data": {
      "text/plain": [
       "array([1., 0., 0., 0., 0., 0., 0., 0., 0., 0.], dtype=float32)"
      ]
     },
     "execution_count": 12,
     "metadata": {},
     "output_type": "execute_result"
    }
   ],
   "source": [
    "# check\n",
    "y_TrainOneHot[1]"
   ]
  },
  {
   "cell_type": "code",
   "execution_count": 13,
   "metadata": {},
   "outputs": [
    {
     "name": "stdout",
     "output_type": "stream",
     "text": [
      "_________________________________________________________________\n",
      "Layer (type)                 Output Shape              Param #   \n",
      "=================================================================\n",
      "dense_1 (Dense)              (None, 256)               200960    \n",
      "_________________________________________________________________\n",
      "dense_2 (Dense)              (None, 10)                2570      \n",
      "=================================================================\n",
      "Total params: 203,530\n",
      "Trainable params: 203,530\n",
      "Non-trainable params: 0\n",
      "_________________________________________________________________\n"
     ]
    }
   ],
   "source": [
    "# model summary\n",
    "model.summary()"
   ]
  },
  {
   "cell_type": "code",
   "execution_count": 14,
   "metadata": {},
   "outputs": [
    {
     "name": "stdout",
     "output_type": "stream",
     "text": [
      "Train on 48000 samples, validate on 12000 samples\n",
      "Epoch 1/100\n",
      " - 2s - loss: 0.7693 - acc: 0.8110 - val_loss: 0.3166 - val_acc: 0.9128\n",
      "Epoch 2/100\n",
      " - 2s - loss: 0.2924 - acc: 0.9187 - val_loss: 0.2410 - val_acc: 0.9335\n",
      "Epoch 3/100\n",
      " - 2s - loss: 0.2288 - acc: 0.9359 - val_loss: 0.2016 - val_acc: 0.9439\n",
      "Epoch 4/100\n",
      " - 2s - loss: 0.1880 - acc: 0.9473 - val_loss: 0.1756 - val_acc: 0.9522\n",
      "Epoch 5/100\n",
      " - 2s - loss: 0.1594 - acc: 0.9556 - val_loss: 0.1546 - val_acc: 0.9573\n",
      "Epoch 6/100\n",
      " - 2s - loss: 0.1385 - acc: 0.9609 - val_loss: 0.1415 - val_acc: 0.9600\n",
      "Epoch 7/100\n",
      " - 2s - loss: 0.1210 - acc: 0.9661 - val_loss: 0.1299 - val_acc: 0.9647\n",
      "Epoch 8/100\n",
      " - 2s - loss: 0.1072 - acc: 0.9705 - val_loss: 0.1234 - val_acc: 0.9649\n",
      "Epoch 9/100\n",
      " - 2s - loss: 0.0961 - acc: 0.9739 - val_loss: 0.1154 - val_acc: 0.9670\n",
      "Epoch 10/100\n",
      " - 2s - loss: 0.0862 - acc: 0.9765 - val_loss: 0.1098 - val_acc: 0.9672\n",
      "Epoch 11/100\n",
      " - 2s - loss: 0.0776 - acc: 0.9789 - val_loss: 0.1063 - val_acc: 0.9687\n",
      "Epoch 12/100\n",
      " - 1s - loss: 0.0704 - acc: 0.9812 - val_loss: 0.1005 - val_acc: 0.9698\n",
      "Epoch 13/100\n",
      " - 2s - loss: 0.0647 - acc: 0.9828 - val_loss: 0.0991 - val_acc: 0.9704\n",
      "Epoch 14/100\n",
      " - 2s - loss: 0.0589 - acc: 0.9843 - val_loss: 0.0950 - val_acc: 0.9707\n",
      "Epoch 15/100\n",
      " - 2s - loss: 0.0532 - acc: 0.9865 - val_loss: 0.0948 - val_acc: 0.9718\n",
      "Epoch 16/100\n",
      " - 2s - loss: 0.0489 - acc: 0.9872 - val_loss: 0.0909 - val_acc: 0.9723\n",
      "Epoch 17/100\n",
      " - 2s - loss: 0.0447 - acc: 0.9889 - val_loss: 0.0902 - val_acc: 0.9723\n",
      "Epoch 18/100\n",
      " - 2s - loss: 0.0411 - acc: 0.9899 - val_loss: 0.0873 - val_acc: 0.9734\n",
      "Epoch 19/100\n",
      " - 2s - loss: 0.0373 - acc: 0.9911 - val_loss: 0.0887 - val_acc: 0.9737\n",
      "Epoch 20/100\n",
      " - 1s - loss: 0.0345 - acc: 0.9918 - val_loss: 0.0868 - val_acc: 0.9731\n",
      "Epoch 21/100\n",
      " - 1s - loss: 0.0321 - acc: 0.9925 - val_loss: 0.0858 - val_acc: 0.9734\n",
      "Epoch 22/100\n",
      " - 1s - loss: 0.0288 - acc: 0.9939 - val_loss: 0.0861 - val_acc: 0.9729\n",
      "Epoch 23/100\n",
      " - 2s - loss: 0.0267 - acc: 0.9945 - val_loss: 0.0850 - val_acc: 0.9742\n",
      "Epoch 24/100\n",
      " - 2s - loss: 0.0246 - acc: 0.9951 - val_loss: 0.0833 - val_acc: 0.9747\n",
      "Epoch 25/100\n",
      " - 2s - loss: 0.0223 - acc: 0.9957 - val_loss: 0.0833 - val_acc: 0.9749\n",
      "Epoch 26/100\n",
      " - 2s - loss: 0.0206 - acc: 0.9962 - val_loss: 0.0847 - val_acc: 0.9742\n",
      "Epoch 27/100\n",
      " - 2s - loss: 0.0190 - acc: 0.9971 - val_loss: 0.0826 - val_acc: 0.9754\n",
      "Epoch 28/100\n",
      " - 2s - loss: 0.0174 - acc: 0.9976 - val_loss: 0.0842 - val_acc: 0.9735\n",
      "Epoch 29/100\n",
      " - 2s - loss: 0.0161 - acc: 0.9978 - val_loss: 0.0835 - val_acc: 0.9751\n",
      "Epoch 30/100\n",
      " - 1s - loss: 0.0147 - acc: 0.9980 - val_loss: 0.0831 - val_acc: 0.9753\n",
      "Epoch 31/100\n",
      " - 1s - loss: 0.0137 - acc: 0.9982 - val_loss: 0.0831 - val_acc: 0.9753\n",
      "Epoch 32/100\n",
      " - 1s - loss: 0.0128 - acc: 0.9984 - val_loss: 0.0829 - val_acc: 0.9752\n",
      "Epoch 33/100\n",
      " - 1s - loss: 0.0121 - acc: 0.9986 - val_loss: 0.0836 - val_acc: 0.9749\n",
      "Epoch 34/100\n",
      " - 2s - loss: 0.0108 - acc: 0.9991 - val_loss: 0.0841 - val_acc: 0.9757\n",
      "Epoch 35/100\n",
      " - 2s - loss: 0.0099 - acc: 0.9994 - val_loss: 0.0855 - val_acc: 0.9750\n",
      "Epoch 36/100\n",
      " - 2s - loss: 0.0091 - acc: 0.9992 - val_loss: 0.0834 - val_acc: 0.9762\n",
      "Epoch 37/100\n",
      " - 2s - loss: 0.0084 - acc: 0.9994 - val_loss: 0.0850 - val_acc: 0.9756\n",
      "Epoch 38/100\n",
      " - 2s - loss: 0.0079 - acc: 0.9995 - val_loss: 0.0843 - val_acc: 0.9759\n",
      "Epoch 39/100\n",
      " - 2s - loss: 0.0073 - acc: 0.9996 - val_loss: 0.0849 - val_acc: 0.9763\n",
      "Epoch 40/100\n",
      " - 2s - loss: 0.0069 - acc: 0.9996 - val_loss: 0.0855 - val_acc: 0.9768\n",
      "Epoch 41/100\n",
      " - 2s - loss: 0.0063 - acc: 0.9996 - val_loss: 0.0856 - val_acc: 0.9765\n",
      "Epoch 42/100\n",
      " - 2s - loss: 0.0060 - acc: 0.9998 - val_loss: 0.0882 - val_acc: 0.9757\n",
      "Epoch 43/100\n",
      " - 1s - loss: 0.0055 - acc: 0.9998 - val_loss: 0.0864 - val_acc: 0.9762\n",
      "Epoch 44/100\n",
      " - 2s - loss: 0.0052 - acc: 0.9998 - val_loss: 0.0883 - val_acc: 0.9753\n",
      "Epoch 45/100\n",
      " - 2s - loss: 0.0049 - acc: 0.9998 - val_loss: 0.0867 - val_acc: 0.9767\n",
      "Epoch 46/100\n",
      " - 2s - loss: 0.0045 - acc: 0.9999 - val_loss: 0.0872 - val_acc: 0.9770\n",
      "Epoch 47/100\n",
      " - 2s - loss: 0.0042 - acc: 0.9999 - val_loss: 0.0880 - val_acc: 0.9760\n",
      "Epoch 48/100\n",
      " - 2s - loss: 0.0039 - acc: 0.9999 - val_loss: 0.0880 - val_acc: 0.9766\n",
      "Epoch 49/100\n",
      " - 2s - loss: 0.0037 - acc: 0.9999 - val_loss: 0.0895 - val_acc: 0.9768\n",
      "Epoch 50/100\n",
      " - 2s - loss: 0.0034 - acc: 0.9999 - val_loss: 0.0883 - val_acc: 0.9764\n",
      "Epoch 51/100\n",
      " - 1s - loss: 0.0033 - acc: 0.9999 - val_loss: 0.0902 - val_acc: 0.9769\n",
      "Epoch 52/100\n",
      " - 1s - loss: 0.0031 - acc: 1.0000 - val_loss: 0.0891 - val_acc: 0.9771\n",
      "Epoch 53/100\n",
      " - 2s - loss: 0.0029 - acc: 1.0000 - val_loss: 0.0906 - val_acc: 0.9763\n",
      "Epoch 54/100\n",
      " - 2s - loss: 0.0027 - acc: 1.0000 - val_loss: 0.0904 - val_acc: 0.9768\n",
      "Epoch 55/100\n",
      " - 2s - loss: 0.0025 - acc: 1.0000 - val_loss: 0.0911 - val_acc: 0.9769\n",
      "Epoch 56/100\n",
      " - 2s - loss: 0.0024 - acc: 1.0000 - val_loss: 0.0911 - val_acc: 0.9768\n",
      "Epoch 57/100\n",
      " - 2s - loss: 0.0023 - acc: 1.0000 - val_loss: 0.0915 - val_acc: 0.9771\n",
      "Epoch 58/100\n",
      " - 2s - loss: 0.0022 - acc: 1.0000 - val_loss: 0.0922 - val_acc: 0.9773\n",
      "Epoch 59/100\n",
      " - 2s - loss: 0.0021 - acc: 1.0000 - val_loss: 0.0921 - val_acc: 0.9764\n",
      "Epoch 60/100\n",
      " - 2s - loss: 0.0020 - acc: 1.0000 - val_loss: 0.0929 - val_acc: 0.9766\n",
      "Epoch 61/100\n",
      " - 1s - loss: 0.0018 - acc: 1.0000 - val_loss: 0.0928 - val_acc: 0.9770\n",
      "Epoch 62/100\n",
      " - 1s - loss: 0.0018 - acc: 1.0000 - val_loss: 0.0932 - val_acc: 0.9772\n",
      "Epoch 63/100\n",
      " - 2s - loss: 0.0017 - acc: 1.0000 - val_loss: 0.0939 - val_acc: 0.9773\n",
      "Epoch 64/100\n",
      " - 2s - loss: 0.0016 - acc: 1.0000 - val_loss: 0.0947 - val_acc: 0.9773\n",
      "Epoch 65/100\n",
      " - 2s - loss: 0.0015 - acc: 1.0000 - val_loss: 0.0939 - val_acc: 0.9773\n",
      "Epoch 66/100\n",
      " - 2s - loss: 0.0014 - acc: 1.0000 - val_loss: 0.0949 - val_acc: 0.9765\n",
      "Epoch 67/100\n",
      " - 2s - loss: 0.0013 - acc: 1.0000 - val_loss: 0.0948 - val_acc: 0.9777\n",
      "Epoch 68/100\n",
      " - 2s - loss: 0.0013 - acc: 1.0000 - val_loss: 0.0956 - val_acc: 0.9778\n",
      "Epoch 69/100\n",
      " - 2s - loss: 0.0012 - acc: 1.0000 - val_loss: 0.0951 - val_acc: 0.9775\n",
      "Epoch 70/100\n",
      " - 2s - loss: 0.0012 - acc: 1.0000 - val_loss: 0.0959 - val_acc: 0.9772\n",
      "Epoch 71/100\n",
      " - 1s - loss: 0.0011 - acc: 1.0000 - val_loss: 0.0968 - val_acc: 0.9769\n",
      "Epoch 72/100\n",
      " - 1s - loss: 0.0011 - acc: 1.0000 - val_loss: 0.0969 - val_acc: 0.9774\n",
      "Epoch 73/100\n",
      " - 2s - loss: 0.0010 - acc: 1.0000 - val_loss: 0.0969 - val_acc: 0.9770\n",
      "Epoch 74/100\n",
      " - 2s - loss: 9.6915e-04 - acc: 1.0000 - val_loss: 0.0976 - val_acc: 0.9775\n",
      "Epoch 75/100\n",
      " - 2s - loss: 9.3048e-04 - acc: 1.0000 - val_loss: 0.0980 - val_acc: 0.9772\n",
      "Epoch 76/100\n",
      " - 2s - loss: 8.8773e-04 - acc: 1.0000 - val_loss: 0.0982 - val_acc: 0.9777\n",
      "Epoch 77/100\n",
      " - 2s - loss: 8.4317e-04 - acc: 1.0000 - val_loss: 0.0986 - val_acc: 0.9778\n",
      "Epoch 78/100\n",
      " - 2s - loss: 8.2835e-04 - acc: 1.0000 - val_loss: 0.0991 - val_acc: 0.9777\n",
      "Epoch 79/100\n",
      " - 2s - loss: 7.7776e-04 - acc: 1.0000 - val_loss: 0.0987 - val_acc: 0.9779\n",
      "Epoch 80/100\n",
      " - 2s - loss: 7.5229e-04 - acc: 1.0000 - val_loss: 0.1000 - val_acc: 0.9770\n",
      "Epoch 81/100\n",
      " - 1s - loss: 7.1428e-04 - acc: 1.0000 - val_loss: 0.1000 - val_acc: 0.9774\n",
      "Epoch 82/100\n",
      " - 1s - loss: 6.9382e-04 - acc: 1.0000 - val_loss: 0.0998 - val_acc: 0.9778\n",
      "Epoch 83/100\n",
      " - 1s - loss: 6.4777e-04 - acc: 1.0000 - val_loss: 0.1012 - val_acc: 0.9777\n",
      "Epoch 84/100\n",
      " - 1s - loss: 6.2904e-04 - acc: 1.0000 - val_loss: 0.1006 - val_acc: 0.9774\n",
      "Epoch 85/100\n",
      " - 2s - loss: 6.0197e-04 - acc: 1.0000 - val_loss: 0.1016 - val_acc: 0.9776\n",
      "Epoch 86/100\n",
      " - 2s - loss: 5.8451e-04 - acc: 1.0000 - val_loss: 0.1022 - val_acc: 0.9775\n",
      "Epoch 87/100\n",
      " - 2s - loss: 5.4711e-04 - acc: 1.0000 - val_loss: 0.1025 - val_acc: 0.9770\n",
      "Epoch 88/100\n",
      " - 2s - loss: 5.2918e-04 - acc: 1.0000 - val_loss: 0.1024 - val_acc: 0.9780\n",
      "Epoch 89/100\n",
      " - 2s - loss: 5.1933e-04 - acc: 1.0000 - val_loss: 0.1027 - val_acc: 0.9774\n",
      "Epoch 90/100\n",
      " - 2s - loss: 4.9449e-04 - acc: 1.0000 - val_loss: 0.1032 - val_acc: 0.9778\n",
      "Epoch 91/100\n",
      " - 1s - loss: 4.6497e-04 - acc: 1.0000 - val_loss: 0.1039 - val_acc: 0.9778\n",
      "Epoch 92/100\n",
      " - 1s - loss: 4.4593e-04 - acc: 1.0000 - val_loss: 0.1033 - val_acc: 0.9778\n",
      "Epoch 93/100\n",
      " - 2s - loss: 4.3450e-04 - acc: 1.0000 - val_loss: 0.1040 - val_acc: 0.9778\n",
      "Epoch 94/100\n",
      " - 1s - loss: 4.1368e-04 - acc: 1.0000 - val_loss: 0.1043 - val_acc: 0.9776\n",
      "Epoch 95/100\n",
      " - 2s - loss: 3.9749e-04 - acc: 1.0000 - val_loss: 0.1046 - val_acc: 0.9777\n"
     ]
    },
    {
     "name": "stdout",
     "output_type": "stream",
     "text": [
      "Epoch 96/100\n",
      " - 2s - loss: 3.8498e-04 - acc: 1.0000 - val_loss: 0.1057 - val_acc: 0.9776\n",
      "Epoch 97/100\n",
      " - 2s - loss: 3.6945e-04 - acc: 1.0000 - val_loss: 0.1052 - val_acc: 0.9776\n",
      "Epoch 98/100\n",
      " - 2s - loss: 3.5351e-04 - acc: 1.0000 - val_loss: 0.1058 - val_acc: 0.9774\n",
      "Epoch 99/100\n",
      " - 2s - loss: 3.3940e-04 - acc: 1.0000 - val_loss: 0.1059 - val_acc: 0.9777\n",
      "Epoch 100/100\n",
      " - 2s - loss: 3.2790e-04 - acc: 1.0000 - val_loss: 0.1060 - val_acc: 0.9782\n"
     ]
    }
   ],
   "source": [
    "# 3, Model training and execution\n",
    "\n",
    "train_history = model.fit(x=x_Train_norm, y=y_TrainOneHot, validation_split=0.2, epochs=100, batch_size=800, verbose=2)  \n"
   ]
  },
  {
   "cell_type": "code",
   "execution_count": 25,
   "metadata": {},
   "outputs": [
    {
     "name": "stdout",
     "output_type": "stream",
     "text": [
      "60000/60000 [==============================] - 2s 29us/step\n",
      "\n",
      "\t[Infomation] Accuracy of testing data = 99.56%\n"
     ]
    }
   ],
   "source": [
    "# 4, Model evaluation  (Result of Loss and Accuracy)\n",
    "\n",
    "scoreTrain = model.evaluate(x_Train_norm, y_TrainOneHot)  \n",
    "print()  \n",
    "print(\"\\t[Infomation] Accuracy of testing data = {:2.2f}%\".format(scoreTrain[1]*100.0))  \n"
   ]
  },
  {
   "cell_type": "code",
   "execution_count": 16,
   "metadata": {},
   "outputs": [
    {
     "name": "stdout",
     "output_type": "stream",
     "text": [
      "['loss', 'acc']\n"
     ]
    }
   ],
   "source": [
    "# check\n",
    "print(model.metrics_names)"
   ]
  },
  {
   "cell_type": "code",
   "execution_count": 17,
   "metadata": {},
   "outputs": [
    {
     "data": {
      "text/plain": [
       "[0.021439445189242724, 0.99565]"
      ]
     },
     "execution_count": 17,
     "metadata": {},
     "output_type": "execute_result"
    }
   ],
   "source": [
    "# check\n",
    "scoreTrain"
   ]
  },
  {
   "cell_type": "code",
   "execution_count": 18,
   "metadata": {},
   "outputs": [
    {
     "name": "stdout",
     "output_type": "stream",
     "text": [
      "10000/10000 [==============================] - 0s 28us/step\n",
      "\n",
      "\t[Info] Accuracy of testing data = 98.0%\n"
     ]
    }
   ],
   "source": [
    "# 4, Model evaluation  (Result of Loss and Accuracy)\n",
    "\n",
    "scoreTest = model.evaluate(x_Test_norm, y_TestOneHot)  \n",
    "print()  \n",
    "print(\"\\t[Info] Accuracy of testing data = {:2.1f}%\".format(scoreTest[1]*100.0))  \n"
   ]
  },
  {
   "cell_type": "code",
   "execution_count": 19,
   "metadata": {},
   "outputs": [
    {
     "data": {
      "text/plain": [
       "[0.0902140492171527, 0.9799]"
      ]
     },
     "execution_count": 19,
     "metadata": {},
     "output_type": "execute_result"
    }
   ],
   "source": [
    "# check\n",
    "scoreTest"
   ]
  },
  {
   "cell_type": "code",
   "execution_count": 20,
   "metadata": {},
   "outputs": [],
   "source": [
    "# 5, Prediction\n",
    "\n",
    "X = x_Test_norm[0:20,:]\n",
    "predictions = model.predict_classes(X)"
   ]
  },
  {
   "cell_type": "code",
   "execution_count": 21,
   "metadata": {},
   "outputs": [
    {
     "name": "stdout",
     "output_type": "stream",
     "text": [
      "[7 2 1 0 4 1 4 9 5 9 0 6 9 0 1 5 9 7 3 4]\n"
     ]
    }
   ],
   "source": [
    "# get prediction result\n",
    "print(predictions)"
   ]
  },
  {
   "cell_type": "code",
   "execution_count": 22,
   "metadata": {},
   "outputs": [
    {
     "data": {
      "image/png": "[encoded data removed]",
      "text/plain": [
       "<Figure size 432x288 with 1 Axes>"
      ]
     },
     "metadata": {
      "needs_background": "light"
     },
     "output_type": "display_data"
    }
   ],
   "source": [
    "# show first picture\n",
    "plt.imshow(X_test[0])\n",
    "plt.show() "
   ]
  },
  {
   "cell_type": "code",
   "execution_count": 23,
   "metadata": {},
   "outputs": [
    {
     "data": {
      "image/png": "[encoded data removed]",
      "text/plain": [
       "<Figure size 432x288 with 1 Axes>"
      ]
     },
     "metadata": {
      "needs_background": "light"
     },
     "output_type": "display_data"
    }
   ],
   "source": [
    "# plt\n",
    "plt.plot(train_history.history['loss'])  \n",
    "plt.plot(train_history.history['val_loss'])  \n",
    "plt.title('Train History')  \n",
    "plt.ylabel('loss')  \n",
    "plt.xlabel('Epoch')  \n",
    "plt.legend(['loss', 'val_loss'], loc='upper left')  \n",
    "plt.show() \n"
   ]
  },
  {
   "cell_type": "code",
   "execution_count": 24,
   "metadata": {},
   "outputs": [],
   "source": [
    "# end"
   ]
  }
 ],
 "metadata": {
  "kernelspec": {
   "display_name": "Python 3",
   "language": "python",
   "name": "python3"
  },
  "language_info": {
   "codemirror_mode": {
    "name": "ipython",
    "version": 3
   },
   "file_extension": ".py",
   "mimetype": "text/x-python",
   "name": "python",
   "nbconvert_exporter": "python",
   "pygments_lexer": "ipython3",
   "version": "3.6.6"
  }
 },
 "nbformat": 4,
 "nbformat_minor": 2
}

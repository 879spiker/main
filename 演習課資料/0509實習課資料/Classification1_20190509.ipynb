{
 "cells": [
  {
   "cell_type": "code",
   "execution_count": 1,
   "metadata": {},
   "outputs": [],
   "source": [
    "# Classification: KNN, Bayes, Decision Tree"
   ]
  },
  {
   "cell_type": "code",
   "execution_count": 2,
   "metadata": {},
   "outputs": [],
   "source": [
    "# import package and datasets\n",
    "\n",
    "# import iris datasets\n",
    "from sklearn import datasets\n",
    "iris = datasets.load_iris()\n",
    "\n",
    "# split function for training set and testing set\n",
    "from sklearn.model_selection import train_test_split\n",
    "X_train, X_test, y_train, y_test = train_test_split(iris.data, iris.target, test_size=0.3)\n",
    "\n",
    "# assessment function: metrics\n",
    "from sklearn import metrics"
   ]
  },
  {
   "cell_type": "code",
   "execution_count": 15,
   "metadata": {},
   "outputs": [
    {
     "name": "stdout",
     "output_type": "stream",
     "text": [
      "dict_keys(['data', 'target', 'frame', 'target_names', 'DESCR', 'feature_names', 'filename'])\n",
      "['sepal length (cm)', 'sepal width (cm)', 'petal length (cm)', 'petal width (cm)']\n",
      "[0 0 0 0 0 0 0 0 0 0 0 0 0 0 0 0 0 0 0 0 0 0 0 0 0 0 0 0 0 0 0 0 0 0 0 0 0\n",
      " 0 0 0 0 0 0 0 0 0 0 0 0 0 1 1 1 1 1 1 1 1 1 1 1 1 1 1 1 1 1 1 1 1 1 1 1 1\n",
      " 1 1 1 1 1 1 1 1 1 1 1 1 1 1 1 1 1 1 1 1 1 1 1 1 1 1 2 2 2 2 2 2 2 2 2 2 2\n",
      " 2 2 2 2 2 2 2 2 2 2 2 2 2 2 2 2 2 2 2 2 2 2 2 2 2 2 2 2 2 2 2 2 2 2 2 2 2\n",
      " 2 2]\n",
      "['setosa' 'versicolor' 'virginica']\n",
      "4\n"
     ]
    }
   ],
   "source": [
    "# visulize the data first\n",
    "print(iris.keys())\n",
    "print(iris.feature_names)\n",
    "print(iris.target)\n",
    "print(iris.target_names)\n",
    "print(len(iris.feature_names)) #len()\n"
   ]
  },
  {
   "cell_type": "code",
   "execution_count": 4,
   "metadata": {},
   "outputs": [
    {
     "name": "stdout",
     "output_type": "stream",
     "text": [
      "45\n",
      "105\n",
      "45\n",
      "105\n"
     ]
    }
   ],
   "source": [
    "# check the training and testing data~\n",
    "X_train, X_test, y_train, y_test = train_test_split(iris.data, iris.target, test_size=0.3)\n",
    "\n",
    "print(len(X_test))\n",
    "print(len(X_train))\n",
    "print(len(y_test))\n",
    "print(len(y_train))"
   ]
  },
  {
   "cell_type": "code",
   "execution_count": 5,
   "metadata": {},
   "outputs": [
    {
     "name": "stdout",
     "output_type": "stream",
     "text": [
      "[0 0 0 1 0 0 2 2 2 1 1 1 1 0 2 2 1 1 0 0 2 1 2 0 0 1 2 1 2 0 0 0 2 2 0 0 1\n",
      " 0 1 0 2 2 1 2 1]\n",
      "[0 0 0 1 0 0 2 2 2 1 1 1 1 0 2 2 1 1 0 0 2 1 2 0 0 1 2 1 2 0 0 0 2 2 0 0 1\n",
      " 0 1 0 2 2 1 2 1]\n"
     ]
    }
   ],
   "source": [
    "# KNN algorithm\n",
    "\n",
    "# import algorithm from sklearn\n",
    "from sklearn import neighbors\n",
    "\n",
    "# build model\n",
    "model2 = neighbors.KNeighborsClassifier(n_neighbors=3)\n",
    "\n",
    "# training data\n",
    "model2.fit(X_train, y_train) \n",
    "\n",
    "# predict data\n",
    "y_pred=model2.predict(X_test)\n",
    "\n",
    "# print result\n",
    "print(y_pred)\n",
    "print(y_test)"
   ]
  },
  {
   "cell_type": "code",
   "execution_count": 6,
   "metadata": {},
   "outputs": [
    {
     "name": "stdout",
     "output_type": "stream",
     "text": [
      "[[17  0  0]\n",
      " [ 0 14  0]\n",
      " [ 0  0 14]]\n",
      "1.0\n",
      "              precision    recall  f1-score   support\n",
      "\n",
      "           0       1.00      1.00      1.00        17\n",
      "           1       1.00      1.00      1.00        14\n",
      "           2       1.00      1.00      1.00        14\n",
      "\n",
      "   micro avg       1.00      1.00      1.00        45\n",
      "   macro avg       1.00      1.00      1.00        45\n",
      "weighted avg       1.00      1.00      1.00        45\n",
      "\n"
     ]
    }
   ],
   "source": [
    "# print report\n",
    "print(metrics.confusion_matrix(y_test,y_pred))\n",
    "print(metrics.accuracy_score(y_test,y_pred))\n",
    "print(metrics.classification_report(y_pred,y_test))"
   ]
  },
  {
   "cell_type": "code",
   "execution_count": 7,
   "metadata": {},
   "outputs": [],
   "source": [
    "# Naive Bayes Algorithm"
   ]
  },
  {
   "cell_type": "code",
   "execution_count": 8,
   "metadata": {},
   "outputs": [],
   "source": [
    "# import package and datasets\n",
    "\n",
    "# import iris datasets\n",
    "from sklearn import datasets\n",
    "iris = datasets.load_iris()\n",
    "\n",
    "# split function for training set and testing set\n",
    "from sklearn.model_selection import train_test_split\n",
    "X_train, X_test, y_train, y_test = train_test_split(iris.data, iris.target, test_size=0.3)\n",
    "\n",
    "# assessment function: metrics\n",
    "from sklearn import metrics"
   ]
  },
  {
   "cell_type": "code",
   "execution_count": 20,
   "metadata": {},
   "outputs": [
    {
     "name": "stdout",
     "output_type": "stream",
     "text": [
      "[2 0 2 2 0 2 0 1 1 1 2 2 0 2 2 2 1 1 1 1 0 0 1 2 0 0 0 0 2 1 0 0 0 2 0 2 1\n",
      " 2 1 0 2 0 0 0 0]\n",
      "[2 0 2 1 0 2 0 1 1 1 2 2 0 2 2 2 1 2 1 1 0 0 1 2 0 0 0 0 2 1 0 0 0 2 0 2 1\n",
      " 2 1 0 2 0 0 0 0]\n",
      "<module 'sklearn.naive_bayes' from 'C:\\\\Users\\\\9mzx8\\\\anaconda3\\\\lib\\\\site-packages\\\\sklearn\\\\naive_bayes.py'>\n"
     ]
    },
    {
     "data": {
      "text/plain": [
       "module"
      ]
     },
     "execution_count": 20,
     "metadata": {},
     "output_type": "execute_result"
    }
   ],
   "source": [
    "# Naive Bayes\n",
    "\n",
    "# from sklearn.naive_bayes import GaussianNB\n",
    "from sklearn import naive_bayes\n",
    "\n",
    "# build model\n",
    "model4 = naive_bayes.GaussianNB()\n",
    "#kernel要調的好, 但會有過度學習的狀況\n",
    "\n",
    "# training data\n",
    "model4.fit(X_train, y_train) \n",
    "\n",
    "# predict\n",
    "y_pred=model4.predict(X_test)\n",
    "\n",
    "# print result\n",
    "print(y_pred)\n",
    "print(y_test)\n",
    "print(naive_bayes)\n",
    "type(naive_bayes)"
   ]
  },
  {
   "cell_type": "code",
   "execution_count": 10,
   "metadata": {},
   "outputs": [
    {
     "name": "stdout",
     "output_type": "stream",
     "text": [
      "[[16  0  0]\n",
      " [ 0 13  1]\n",
      " [ 0  0 15]]\n",
      "0.9777777777777777\n",
      "              precision    recall  f1-score   support\n",
      "\n",
      "           0       1.00      1.00      1.00        16\n",
      "           1       0.93      1.00      0.96        13\n",
      "           2       1.00      0.94      0.97        16\n",
      "\n",
      "   micro avg       0.98      0.98      0.98        45\n",
      "   macro avg       0.98      0.98      0.98        45\n",
      "weighted avg       0.98      0.98      0.98        45\n",
      "\n"
     ]
    }
   ],
   "source": [
    "# print report\n",
    "print(metrics.confusion_matrix(y_test,y_pred))\n",
    "print(metrics.accuracy_score(y_test,y_pred))\n",
    "print(metrics.classification_report(y_pred,y_test))"
   ]
  },
  {
   "cell_type": "code",
   "execution_count": 11,
   "metadata": {},
   "outputs": [],
   "source": [
    "# Decision Tree Algorithm"
   ]
  },
  {
   "cell_type": "code",
   "execution_count": 12,
   "metadata": {},
   "outputs": [],
   "source": [
    "# import package and datasets\n",
    "\n",
    "# import iris datasets\n",
    "from sklearn import datasets\n",
    "iris = datasets.load_iris()\n",
    "\n",
    "# split function for training set and testing set\n",
    "from sklearn.model_selection import train_test_split\n",
    "X_train, X_test, y_train, y_test = train_test_split(iris.data, iris.target, test_size=0.3)\n",
    "\n",
    "# assessment function: metrics\n",
    "from sklearn import metrics"
   ]
  },
  {
   "cell_type": "code",
   "execution_count": 13,
   "metadata": {},
   "outputs": [
    {
     "name": "stdout",
     "output_type": "stream",
     "text": [
      "[1 2 0 1 1 1 2 2 2 0 1 1 0 0 2 2 2 2 0 1 1 1 1 1 2 1 0 1 2 1 1 2 0 0 0 1 1\n",
      " 2 0 2 1 1 1 0 2]\n",
      "[1 2 0 1 1 1 2 2 2 0 1 1 0 0 2 2 2 2 0 1 1 1 1 1 2 1 0 1 1 1 1 2 0 0 0 1 1\n",
      " 2 0 2 1 2 1 0 2]\n"
     ]
    }
   ],
   "source": [
    "# decision tree\n",
    "from sklearn import tree\n",
    "\n",
    "# build model\n",
    "model1 = tree.DecisionTreeClassifier()\n",
    "\n",
    "# training data\n",
    "model1.fit(X_train, y_train) \n",
    "\n",
    "# predict data\n",
    "y_pred=model1.predict(X_test)\n",
    "\n",
    "# print reulst\n",
    "print(y_pred)\n",
    "print(y_test)\n"
   ]
  },
  {
   "cell_type": "code",
   "execution_count": 14,
   "metadata": {},
   "outputs": [
    {
     "name": "stdout",
     "output_type": "stream",
     "text": [
      "[[11  0  0]\n",
      " [ 0 19  1]\n",
      " [ 0  1 13]]\n",
      "0.9555555555555556\n",
      "              precision    recall  f1-score   support\n",
      "\n",
      "           0       1.00      1.00      1.00        11\n",
      "           1       0.95      0.95      0.95        20\n",
      "           2       0.93      0.93      0.93        14\n",
      "\n",
      "   micro avg       0.96      0.96      0.96        45\n",
      "   macro avg       0.96      0.96      0.96        45\n",
      "weighted avg       0.96      0.96      0.96        45\n",
      "\n"
     ]
    }
   ],
   "source": [
    "# print report\n",
    "print(metrics.confusion_matrix(y_test,y_pred))\n",
    "print(metrics.accuracy_score(y_test,y_pred))\n",
    "print(metrics.classification_report(y_pred,y_test))"
   ]
  },
  {
   "cell_type": "code",
   "execution_count": null,
   "metadata": {},
   "outputs": [],
   "source": []
  },
  {
   "cell_type": "code",
   "execution_count": null,
   "metadata": {},
   "outputs": [],
   "source": []
  }
 ],
 "metadata": {
  "kernelspec": {
   "display_name": "Python 3",
   "language": "python",
   "name": "python3"
  },
  "language_info": {
   "codemirror_mode": {
    "name": "ipython",
    "version": 3
   },
   "file_extension": ".py",
   "mimetype": "text/x-python",
   "name": "python",
   "nbconvert_exporter": "python",
   "pygments_lexer": "ipython3",
   "version": "3.8.8"
  }
 },
 "nbformat": 4,
 "nbformat_minor": 2
}
